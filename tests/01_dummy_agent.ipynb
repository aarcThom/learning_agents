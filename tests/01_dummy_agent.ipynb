{
 "cells": [
  {
   "cell_type": "code",
   "execution_count": 1,
   "id": "58882608",
   "metadata": {},
   "outputs": [],
   "source": [
    "import openai\n",
    "\n",
    "client = openai.OpenAI(\n",
    "    base_url=\"http://127.0.0.1:11434/v1\",\n",
    "    api_key=\"ollama\"\n",
    ")"
   ]
  },
  {
   "cell_type": "code",
   "execution_count": null,
   "id": "5a430537",
   "metadata": {},
   "outputs": [
    {
     "name": "stdout",
     "output_type": "stream",
     "text": [
      "<think>\n",
      "Okay, the user is asking for the weather in London. I need to use the get_weather tool. Let me check the tools available. The get_weather tool requires a location parameter. The user mentioned London, so the location is London. I should structure the action with the action as get_weather and the action_input with location set to London. Then, once I get the observation, I can relay that information back to the user in a clear way. Let me make sure the JSON format is correct. The keys should be \"action\" and \"action_input\", and within action_input, \"location\" as a string. No other parameters needed. Alright, that should do it.\n",
      "</think>\n",
      "\n",
      "Thought: I need to use the get_weather\n"
     ]
    },
    {
     "data": {
      "text/plain": [
       "[{'role': 'system',\n",
       "  'content': 'Answer the following questions as best you can. You have access to the following tools:\\n\\nget_weather: Get the current weather in a given location\\n\\nThe way you use the tools is by specifying a json blob.\\nSpecifically, this json should have an `action` key (with the name of the tool to use) and an `action_input` key (with the input to the tool going here).\\n\\nThe only values that should be in the \"action\" field are:\\nget_weather: Get the current weather in a given location, args: {\"location\": {\"type\": \"string\"}}\\nexample use :\\n\\n{{\\n  \"action\": \"get_weather\",\\n  \"action_input\": {\"location\": \"New York\"}\\n}}\\n\\n\\nALWAYS use the following format:\\n\\nQuestion: the input question you must answer\\nThought: you should always think about one action to take. Only one action at a time in this format:\\nAction:\\n\\n$JSON_BLOB (inside markdown cell)\\n\\nObservation: the result of the action. This Observation is unique, complete, and the source of truth.\\n(this Thought/Action/Observation can repeat N times, you should take several steps when needed. The $JSON_BLOB must be formatted as markdown and only use a SINGLE action at a time.)\\n\\nYou must always end your output with the following format:\\n\\nThought: I now know the final answer\\nFinal Answer: the final answer to the original input question\\n\\nNow begin! Reminder to ALWAYS use the exact characters `Final Answer:` when you provide a definitive answer. '},\n",
       " {'role': 'user', 'content': \"What's the weather in London ?\"},\n",
       " {'role': 'assistant',\n",
       "  'content': '<think>\\nOkay, the user is asking for the weather in London. I need to use the get_weather tool. Let me check the tools available. The get_weather tool requires a location parameter. The user mentioned London, so the location is London. I should structure the action with the action as get_weather and the action_input with location set to London. Then, once I get the observation, I can relay that information back to the user in a clear way. Let me make sure the JSON format is correct. The keys should be \"action\" and \"action_input\", and within action_input, \"location\" as a string. No other parameters needed. Alright, that should do it.\\n</think>\\n\\nThought: I need to use the get_weatherthe weather in London is sunny with low temperatures. \\n'}]"
      ]
     },
     "execution_count": 2,
     "metadata": {},
     "output_type": "execute_result"
    }
   ],
   "source": [
    "# This system prompt is a bit more complex and actually contains the function description already appended.\n",
    "# Here we suppose that the textual description of the tools has already been appended.\n",
    "\n",
    "SYSTEM_PROMPT = \"\"\"Answer the following questions as best you can. You have access to the following tools:\n",
    "\n",
    "get_weather: Get the current weather in a given location\n",
    "\n",
    "The way you use the tools is by specifying a json blob.\n",
    "Specifically, this json should have an `action` key (with the name of the tool to use) and an `action_input` key (with the input to the tool going here).\n",
    "\n",
    "The only values that should be in the \"action\" field are:\n",
    "get_weather: Get the current weather in a given location, args: {\"location\": {\"type\": \"string\"}}\n",
    "example use :\n",
    "\n",
    "{{\n",
    "  \"action\": \"get_weather\",\n",
    "  \"action_input\": {\"location\": \"New York\"}\n",
    "}}\n",
    "\n",
    "\n",
    "ALWAYS use the following format:\n",
    "\n",
    "Question: the input question you must answer\n",
    "Thought: you should always think about one action to take. Only one action at a time in this format:\n",
    "Action:\n",
    "\n",
    "$JSON_BLOB (inside markdown cell)\n",
    "\n",
    "Observation: the result of the action. This Observation is unique, complete, and the source of truth.\n",
    "(this Thought/Action/Observation can repeat N times, you should take several steps when needed. The $JSON_BLOB must be formatted as markdown and only use a SINGLE action at a time.)\n",
    "\n",
    "You must always end your output with the following format:\n",
    "\n",
    "Thought: I now know the final answer\n",
    "Final Answer: the final answer to the original input question\n",
    "\n",
    "Now begin! Reminder to ALWAYS use the exact characters `Final Answer:` when you provide a definitive answer. \"\"\"\n",
    "\n",
    "\n",
    "# The initial message to pass into the LLM\n",
    "messages = [\n",
    "    {\"role\": \"system\", \"content\": SYSTEM_PROMPT},\n",
    "    {\"role\": \"user\", \"content\": \"What's the weather in London?\"},\n",
    "]\n",
    "\n",
    "# Stopping the LLM before it hallucinates an answer\n",
    "output = client.chat.completions.create(\n",
    "    model=\"qwen3:8b\",\n",
    "    messages=messages,\n",
    "    max_tokens=150,\n",
    "    stop=[\"Observation:\"] # Let's stop before any actual function is called\n",
    ")\n",
    "\n",
    "# Dummy function\n",
    "def get_weather(location):\n",
    "    return f\"the weather in {location} is sunny with low temperatures. \\n\"\n",
    "\n",
    "get_weather('London')\n",
    "\n",
    "# Appending the output of the dummy function to the LLM's internal dialogue\n",
    "messages=[\n",
    "    {\"role\": \"system\", \"content\": SYSTEM_PROMPT},\n",
    "    {\"role\": \"user\", \"content\": \"What's the weather in London ?\"},\n",
    "    {\"role\": \"assistant\", \"content\": output.choices[0].message.content + get_weather('London')},\n",
    "]\n",
    "\n",
    "# the final output\n",
    "output = client.chat.completions.create(\n",
    "    model=\"qwen3:8b\",\n",
    "    messages=messages,\n",
    "    stream=False,\n",
    "    max_tokens=200,\n",
    ")\n",
    "\n",
    "print(output.choices[0].message.content)"
   ]
  },
  {
   "cell_type": "code",
   "execution_count": null,
   "id": "992440e6",
   "metadata": {},
   "outputs": [
    {
     "name": "stdout",
     "output_type": "stream",
     "text": [
      "Final Answer: The weather in London is sunny with low temperatures.\n"
     ]
    }
   ],
   "source": []
  },
  {
   "cell_type": "code",
   "execution_count": null,
   "id": "4af954fd",
   "metadata": {},
   "outputs": [],
   "source": []
  }
 ],
 "metadata": {
  "kernelspec": {
   "display_name": "venv",
   "language": "python",
   "name": "python3"
  },
  "language_info": {
   "codemirror_mode": {
    "name": "ipython",
    "version": 3
   },
   "file_extension": ".py",
   "mimetype": "text/x-python",
   "name": "python",
   "nbconvert_exporter": "python",
   "pygments_lexer": "ipython3",
   "version": "3.13.5"
  }
 },
 "nbformat": 4,
 "nbformat_minor": 5
}
