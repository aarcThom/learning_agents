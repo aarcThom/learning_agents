{
 "cells": [
  {
   "cell_type": "code",
   "execution_count": 1,
   "id": "3a7ee414",
   "metadata": {},
   "outputs": [
    {
     "name": "stderr",
     "output_type": "stream",
     "text": [
      "c:\\Users\\rober\\repos\\learning_agents\\venv\\Lib\\site-packages\\tqdm\\auto.py:21: TqdmWarning: IProgress not found. Please update jupyter and ipywidgets. See https://ipywidgets.readthedocs.io/en/stable/user_install.html\n",
      "  from .autonotebook import tqdm as notebook_tqdm\n"
     ]
    }
   ],
   "source": [
    "from smolagents import LiteLLMModel, CodeAgent, DuckDuckGoSearchTool, FinalAnswerTool, InferenceClientModel, load_tool, tool\n",
    "import datetime\n",
    "import requests\n",
    "import pytz\n",
    "import yaml\n",
    "from Gradio_UI import GradioUI"
   ]
  },
  {
   "cell_type": "code",
   "execution_count": 2,
   "id": "bf70d1b8",
   "metadata": {},
   "outputs": [],
   "source": [
    "@tool\n",
    "def my_custom_tool(arg1:str, arg2:int) -> str:\n",
    "    \"\"\"A tool that does nothing yet \n",
    "    Args:\n",
    "        arg1: the first argument\n",
    "        arg2: the second argument\n",
    "    \"\"\"\n",
    "    return \"What magic will you build ?\"\n",
    "\n",
    "\n",
    "@tool\n",
    "def get_current_time_in_timezone(timezone:str) -> str:\n",
    "    \"\"\"A tool that fetches the current local time in a specified timezone.\n",
    "    Args:\n",
    "        timezone: A string representing a valid timezone (e.g., 'America/New_York').\n",
    "    \"\"\"\n",
    "    \n",
    "    try:\n",
    "        # create timezone object\n",
    "        tz = pytz.timezone(timezone)\n",
    "        \n",
    "        # get the current time in that timezone\n",
    "        local_time = datetime.datetime.now(tz).strftime(\"%Y-%m-%d %H:%M:%S\")\n",
    "        return f\"The current local time in {timezone} is: {local_time}\"\n",
    "    \n",
    "    except Exception as e:\n",
    "        return f\"Error fetching time for timezone '{timezone}': {str(e)}\"\n"
   ]
  },
  {
   "cell_type": "code",
   "execution_count": 3,
   "id": "2cd4b3e0",
   "metadata": {},
   "outputs": [
    {
     "name": "stderr",
     "output_type": "stream",
     "text": [
      "c:\\Users\\rober\\repos\\learning_agents\\venv\\Lib\\site-packages\\smolagents\\default_tools.py:135: RuntimeWarning: This package (`duckduckgo_search`) has been renamed to `ddgs`! Use `pip install ddgs` instead.\n",
      "  self.ddgs = DDGS(**kwargs)\n"
     ]
    }
   ],
   "source": [
    "final_answer = FinalAnswerTool() # smolagents tool\n",
    "web_search = DuckDuckGoSearchTool()\n",
    "\n",
    "# define the model we are going to use\n",
    "model = LiteLLMModel(\n",
    "    model_id=\"ollama_chat/qwen3-coder\",\n",
    "    api_base=\"http://127.0.0.1:11434\",  # Default Ollama local server\n",
    "    num_ctx=8192,\n",
    ")\n",
    "\n",
    "with open(\"data/prompts.yaml\", 'r') as stream:\n",
    "    prompt_templates = yaml.safe_load(stream)\n",
    "    \n"
   ]
  },
  {
   "cell_type": "code",
   "execution_count": 4,
   "id": "b5e369e6",
   "metadata": {},
   "outputs": [
    {
     "name": "stdout",
     "output_type": "stream",
     "text": [
      "<class 'str'>\n",
      "<class 'dict'>\n",
      "<class 'dict'>\n",
      "<class 'dict'>\n"
     ]
    }
   ],
   "source": [
    "for value in prompt_templates.values():\n",
    "    print(type(value))"
   ]
  },
  {
   "cell_type": "code",
   "execution_count": null,
   "id": "18473319",
   "metadata": {},
   "outputs": [],
   "source": [
    "# We're creating our CodeAgent\n",
    "\n",
    "agent = CodeAgent(\n",
    "    model=model,\n",
    "    tools=[final_answer, get_current_time_in_timezone, web_search], # add your tools here (don't remove final_answer)\n",
    "    max_steps=6,\n",
    "    verbosity_level=1,\n",
    "    grammar=None,\n",
    "    planning_interval=None,\n",
    "    name=None,\n",
    "    description=None\n",
    ")\n",
    "\n"
   ]
  },
  {
   "cell_type": "code",
   "execution_count": 6,
   "id": "c30d53a5",
   "metadata": {},
   "outputs": [
    {
     "name": "stderr",
     "output_type": "stream",
     "text": [
      "c:\\Users\\rober\\repos\\learning_agents\\venv\\Lib\\site-packages\\websockets\\legacy\\__init__.py:6: DeprecationWarning: websockets.legacy is deprecated; see https://websockets.readthedocs.io/en/stable/howto/upgrade.html for upgrade instructions\n",
      "  warnings.warn(  # deprecated in 14.0 - 2024-11-09\n",
      "c:\\Users\\rober\\repos\\learning_agents\\tests\\Gradio_UI.py:267: DeprecationWarning: The 'resizeable' parameter is deprecated and will be removed in a future version. Please use the 'resizable' (note the corrected spelling) parameter instead.\n",
      "  chatbot = gr.Chatbot(\n",
      "c:\\Users\\rober\\repos\\learning_agents\\venv\\Lib\\site-packages\\uvicorn\\protocols\\websockets\\websockets_impl.py:17: DeprecationWarning: websockets.server.WebSocketServerProtocol is deprecated\n",
      "  from websockets.server import WebSocketServerProtocol\n"
     ]
    },
    {
     "name": "stdout",
     "output_type": "stream",
     "text": [
      "* Running on local URL:  http://127.0.0.1:7860\n",
      "* Running on public URL: https://b9f3c57e1f38de3ede.gradio.live\n",
      "\n",
      "This share link expires in 1 week. For free permanent hosting and GPU upgrades, run `gradio deploy` from the terminal in the working directory to deploy to Hugging Face Spaces (https://huggingface.co/spaces)\n"
     ]
    },
    {
     "data": {
      "text/html": [
       "<div><iframe src=\"https://b9f3c57e1f38de3ede.gradio.live\" width=\"100%\" height=\"500\" allow=\"autoplay; camera; microphone; clipboard-read; clipboard-write;\" frameborder=\"0\" allowfullscreen></iframe></div>"
      ],
      "text/plain": [
       "<IPython.core.display.HTML object>"
      ]
     },
     "metadata": {},
     "output_type": "display_data"
    },
    {
     "data": {
      "text/html": [
       "<pre style=\"white-space:pre;overflow-x:auto;line-height:normal;font-family:Menlo,'DejaVu Sans Mono',consolas,'Courier New',monospace\"><span style=\"color: #d4b702; text-decoration-color: #d4b702\">╭──────────────────────────────────────────────────── </span><span style=\"color: #d4b702; text-decoration-color: #d4b702; font-weight: bold\">New run</span><span style=\"color: #d4b702; text-decoration-color: #d4b702\"> ────────────────────────────────────────────────────╮</span>\n",
       "<span style=\"color: #d4b702; text-decoration-color: #d4b702\">│</span>                                                                                                                 <span style=\"color: #d4b702; text-decoration-color: #d4b702\">│</span>\n",
       "<span style=\"color: #d4b702; text-decoration-color: #d4b702\">│</span> <span style=\"font-weight: bold\">what is the area of paris in square feet?</span>                                                                       <span style=\"color: #d4b702; text-decoration-color: #d4b702\">│</span>\n",
       "<span style=\"color: #d4b702; text-decoration-color: #d4b702\">│</span>                                                                                                                 <span style=\"color: #d4b702; text-decoration-color: #d4b702\">│</span>\n",
       "<span style=\"color: #d4b702; text-decoration-color: #d4b702\">╰─ LiteLLMModel - ollama_chat/qwen3-coder ────────────────────────────────────────────────────────────────────────╯</span>\n",
       "</pre>\n"
      ],
      "text/plain": [
       "\u001b[38;2;212;183;2m╭─\u001b[0m\u001b[38;2;212;183;2m───────────────────────────────────────────────────\u001b[0m\u001b[38;2;212;183;2m \u001b[0m\u001b[1;38;2;212;183;2mNew run\u001b[0m\u001b[38;2;212;183;2m \u001b[0m\u001b[38;2;212;183;2m───────────────────────────────────────────────────\u001b[0m\u001b[38;2;212;183;2m─╮\u001b[0m\n",
       "\u001b[38;2;212;183;2m│\u001b[0m                                                                                                                 \u001b[38;2;212;183;2m│\u001b[0m\n",
       "\u001b[38;2;212;183;2m│\u001b[0m \u001b[1mwhat is the area of paris in square feet?\u001b[0m                                                                       \u001b[38;2;212;183;2m│\u001b[0m\n",
       "\u001b[38;2;212;183;2m│\u001b[0m                                                                                                                 \u001b[38;2;212;183;2m│\u001b[0m\n",
       "\u001b[38;2;212;183;2m╰─\u001b[0m\u001b[38;2;212;183;2m LiteLLMModel - ollama_chat/qwen3-coder \u001b[0m\u001b[38;2;212;183;2m───────────────────────────────────────────────────────────────────────\u001b[0m\u001b[38;2;212;183;2m─╯\u001b[0m\n"
      ]
     },
     "metadata": {},
     "output_type": "display_data"
    },
    {
     "data": {
      "text/html": [
       "<pre style=\"white-space:pre;overflow-x:auto;line-height:normal;font-family:Menlo,'DejaVu Sans Mono',consolas,'Courier New',monospace\"><span style=\"color: #d4b702; text-decoration-color: #d4b702\">━━━━━━━━━━━━━━━━━━━━━━━━━━━━━━━━━━━━━━━━━━━━━━━━━━━━━ </span><span style=\"font-weight: bold\">Step </span><span style=\"color: #008080; text-decoration-color: #008080; font-weight: bold\">1</span><span style=\"color: #d4b702; text-decoration-color: #d4b702\"> ━━━━━━━━━━━━━━━━━━━━━━━━━━━━━━━━━━━━━━━━━━━━━━━━━━━━━━</span>\n",
       "</pre>\n"
      ],
      "text/plain": [
       "\u001b[38;2;212;183;2m━━━━━━━━━━━━━━━━━━━━━━━━━━━━━━━━━━━━━━━━━━━━━━━━━━━━━ \u001b[0m\u001b[1mStep \u001b[0m\u001b[1;36m1\u001b[0m\u001b[38;2;212;183;2m ━━━━━━━━━━━━━━━━━━━━━━━━━━━━━━━━━━━━━━━━━━━━━━━━━━━━━━\u001b[0m\n"
      ]
     },
     "metadata": {},
     "output_type": "display_data"
    },
    {
     "name": "stderr",
     "output_type": "stream",
     "text": [
      "c:\\Users\\rober\\repos\\learning_agents\\venv\\Lib\\site-packages\\httpx\\_models.py:408: DeprecationWarning: Use 'content=<...>' to upload raw bytes/text content.\n",
      "  headers, stream = encode_request(\n",
      "c:\\Users\\rober\\repos\\learning_agents\\venv\\Lib\\site-packages\\smolagents\\models.py:393: FutureWarning: Attribute last_input_token_count is deprecated and will be removed in version 1.20. Please use TokenUsage.input_tokens instead.\n",
      "  warnings.warn(\n",
      "c:\\Users\\rober\\repos\\learning_agents\\venv\\Lib\\site-packages\\smolagents\\models.py:393: FutureWarning: Attribute last_input_token_count is deprecated and will be removed in version 1.20. Please use TokenUsage.input_tokens instead.\n",
      "  warnings.warn(\n",
      "c:\\Users\\rober\\repos\\learning_agents\\venv\\Lib\\site-packages\\smolagents\\models.py:402: FutureWarning: Attribute last_output_token_count is deprecated and will be removed in version 1.20. Please use TokenUsage.output_tokens instead.\n",
      "  warnings.warn(\n"
     ]
    },
    {
     "data": {
      "text/html": [
       "<pre style=\"white-space:pre;overflow-x:auto;line-height:normal;font-family:Menlo,'DejaVu Sans Mono',consolas,'Courier New',monospace\"> ─ <span style=\"font-weight: bold\">Executing parsed code:</span> ──────────────────────────────────────────────────────────────────────────────────────── \n",
       "  <span style=\"color: #f8f8f2; text-decoration-color: #f8f8f2; background-color: #272822\">area_info </span><span style=\"color: #ff4689; text-decoration-color: #ff4689; background-color: #272822\">=</span><span style=\"color: #f8f8f2; text-decoration-color: #f8f8f2; background-color: #272822\"> web_search(query</span><span style=\"color: #ff4689; text-decoration-color: #ff4689; background-color: #272822\">=</span><span style=\"color: #e6db74; text-decoration-color: #e6db74; background-color: #272822\">\"area of Paris square kilometers\"</span><span style=\"color: #f8f8f2; text-decoration-color: #f8f8f2; background-color: #272822\">)</span><span style=\"background-color: #272822\">                                                </span>  \n",
       "  <span style=\"color: #f8f8f2; text-decoration-color: #f8f8f2; background-color: #272822\">print(area_info)</span><span style=\"background-color: #272822\">                                                                                               </span>  \n",
       " ───────────────────────────────────────────────────────────────────────────────────────────────────────────────── \n",
       "</pre>\n"
      ],
      "text/plain": [
       " ─ \u001b[1mExecuting parsed code:\u001b[0m ──────────────────────────────────────────────────────────────────────────────────────── \n",
       "  \u001b[38;2;248;248;242;48;2;39;40;34marea_info\u001b[0m\u001b[38;2;248;248;242;48;2;39;40;34m \u001b[0m\u001b[38;2;255;70;137;48;2;39;40;34m=\u001b[0m\u001b[38;2;248;248;242;48;2;39;40;34m \u001b[0m\u001b[38;2;248;248;242;48;2;39;40;34mweb_search\u001b[0m\u001b[38;2;248;248;242;48;2;39;40;34m(\u001b[0m\u001b[38;2;248;248;242;48;2;39;40;34mquery\u001b[0m\u001b[38;2;255;70;137;48;2;39;40;34m=\u001b[0m\u001b[38;2;230;219;116;48;2;39;40;34m\"\u001b[0m\u001b[38;2;230;219;116;48;2;39;40;34marea of Paris square kilometers\u001b[0m\u001b[38;2;230;219;116;48;2;39;40;34m\"\u001b[0m\u001b[38;2;248;248;242;48;2;39;40;34m)\u001b[0m\u001b[48;2;39;40;34m                                                \u001b[0m  \n",
       "  \u001b[38;2;248;248;242;48;2;39;40;34mprint\u001b[0m\u001b[38;2;248;248;242;48;2;39;40;34m(\u001b[0m\u001b[38;2;248;248;242;48;2;39;40;34marea_info\u001b[0m\u001b[38;2;248;248;242;48;2;39;40;34m)\u001b[0m\u001b[48;2;39;40;34m                                                                                               \u001b[0m  \n",
       " ───────────────────────────────────────────────────────────────────────────────────────────────────────────────── \n"
      ]
     },
     "metadata": {},
     "output_type": "display_data"
    },
    {
     "data": {
      "text/html": [
       "<pre style=\"white-space:pre;overflow-x:auto;line-height:normal;font-family:Menlo,'DejaVu Sans Mono',consolas,'Courier New',monospace\"><span style=\"font-weight: bold\">Execution logs:</span>\n",
       "## Search Results\n",
       "\n",
       "[“area”、“region”、“zone”、“district”的区别有哪些？_百度知道](https://zhidao.baidu.com/question/2122336636204618067\n",
       ".html)\n",
       "area通常用于面积可测量或计算的地区，界限明确，但不指行政区划。 如：60 years ago, half French people were still \n",
       "living in the rural …\n",
       "\n",
       "[浙江省各市的区号分别是多少？_百度知道](https://zhidao.baidu.com/question/1839910678133115180.html)\n",
       "浙江省下辖各个城市区号为：杭州， 0571； 宁波， 0574 ；温州， 0577；绍兴 ，0575 ；湖州， 0572 ；嘉兴， \n",
       "0573；金华，0579 ；衢州，0570；  …\n",
       "\n",
       "[中国各个省市的电话区号是什么？_百度知道](https://zhidao.baidu.com/question/2138770463264329628.html)\n",
       "中国各个省市的 电话区号 如下： 拓展资料 中华人民共和国国际长途 \n",
       "国家代码：86提供各省市区直辖市政府所在地以及部分大城市的电话区号。 区号的结 …\n",
       "\n",
       "[江苏各地的电话区号都是什么？_百度知道](https://zhidao.baidu.com/question/422392434.html)\n",
       "江苏各地的电话区号都是什么？江苏各地级市的电话区号如下：一、南京：025。二、无锡：0510。三、镇江：0511。四、苏州：05\n",
       "12。五、南 …\n",
       "\n",
       "[会议中的AC和SPC是什么，起到什么作用呢？ - 知乎](https://www.zhihu.com/question/447811887)\n",
       "每个会议的管理结构（级别的名字和分工）可能不大一样，我猜题主说的是IJCAI，管理结构有四级（PC Chairs, Area Chairs, \n",
       "Senior PC Members, PC …\n",
       "\n",
       "Out: None\n",
       "</pre>\n"
      ],
      "text/plain": [
       "\u001b[1mExecution logs:\u001b[0m\n",
       "## Search Results\n",
       "\n",
       "[“area”、“region”、“zone”、“district”的区别有哪些？_百度知道](https://zhidao.baidu.com/question/2122336636204618067\n",
       ".html)\n",
       "area通常用于面积可测量或计算的地区，界限明确，但不指行政区划。 如：60 years ago, half French people were still \n",
       "living in the rural …\n",
       "\n",
       "[浙江省各市的区号分别是多少？_百度知道](https://zhidao.baidu.com/question/1839910678133115180.html)\n",
       "浙江省下辖各个城市区号为：杭州， 0571； 宁波， 0574 ；温州， 0577；绍兴 ，0575 ；湖州， 0572 ；嘉兴， \n",
       "0573；金华，0579 ；衢州，0570；  …\n",
       "\n",
       "[中国各个省市的电话区号是什么？_百度知道](https://zhidao.baidu.com/question/2138770463264329628.html)\n",
       "中国各个省市的 电话区号 如下： 拓展资料 中华人民共和国国际长途 \n",
       "国家代码：86提供各省市区直辖市政府所在地以及部分大城市的电话区号。 区号的结 …\n",
       "\n",
       "[江苏各地的电话区号都是什么？_百度知道](https://zhidao.baidu.com/question/422392434.html)\n",
       "江苏各地的电话区号都是什么？江苏各地级市的电话区号如下：一、南京：025。二、无锡：0510。三、镇江：0511。四、苏州：05\n",
       "12。五、南 …\n",
       "\n",
       "[会议中的AC和SPC是什么，起到什么作用呢？ - 知乎](https://www.zhihu.com/question/447811887)\n",
       "每个会议的管理结构（级别的名字和分工）可能不大一样，我猜题主说的是IJCAI，管理结构有四级（PC Chairs, Area Chairs, \n",
       "Senior PC Members, PC …\n",
       "\n",
       "Out: None\n"
      ]
     },
     "metadata": {},
     "output_type": "display_data"
    },
    {
     "name": "stderr",
     "output_type": "stream",
     "text": [
      "c:\\Users\\rober\\repos\\learning_agents\\venv\\Lib\\site-packages\\smolagents\\models.py:393: FutureWarning: Attribute last_input_token_count is deprecated and will be removed in version 1.20. Please use TokenUsage.input_tokens instead.\n",
      "  warnings.warn(\n",
      "c:\\Users\\rober\\repos\\learning_agents\\venv\\Lib\\site-packages\\smolagents\\models.py:393: FutureWarning: Attribute last_input_token_count is deprecated and will be removed in version 1.20. Please use TokenUsage.input_tokens instead.\n",
      "  warnings.warn(\n",
      "c:\\Users\\rober\\repos\\learning_agents\\venv\\Lib\\site-packages\\smolagents\\models.py:402: FutureWarning: Attribute last_output_token_count is deprecated and will be removed in version 1.20. Please use TokenUsage.output_tokens instead.\n",
      "  warnings.warn(\n"
     ]
    },
    {
     "data": {
      "text/html": [
       "<pre style=\"white-space:pre;overflow-x:auto;line-height:normal;font-family:Menlo,'DejaVu Sans Mono',consolas,'Courier New',monospace\"><span style=\"color: #7f7f7f; text-decoration-color: #7f7f7f\">[Step 1: Duration 15.59 seconds| Input tokens: 1,997 | Output tokens: 91]</span>\n",
       "</pre>\n"
      ],
      "text/plain": [
       "\u001b[2m[Step 1: Duration 15.59 seconds| Input tokens: 1,997 | Output tokens: 91]\u001b[0m\n"
      ]
     },
     "metadata": {},
     "output_type": "display_data"
    },
    {
     "name": "stderr",
     "output_type": "stream",
     "text": [
      "c:\\Users\\rober\\repos\\learning_agents\\venv\\Lib\\site-packages\\smolagents\\models.py:393: FutureWarning: Attribute last_input_token_count is deprecated and will be removed in version 1.20. Please use TokenUsage.input_tokens instead.\n",
      "  warnings.warn(\n",
      "c:\\Users\\rober\\repos\\learning_agents\\venv\\Lib\\site-packages\\smolagents\\models.py:393: FutureWarning: Attribute last_input_token_count is deprecated and will be removed in version 1.20. Please use TokenUsage.input_tokens instead.\n",
      "  warnings.warn(\n",
      "c:\\Users\\rober\\repos\\learning_agents\\venv\\Lib\\site-packages\\smolagents\\models.py:402: FutureWarning: Attribute last_output_token_count is deprecated and will be removed in version 1.20. Please use TokenUsage.output_tokens instead.\n",
      "  warnings.warn(\n",
      "c:\\Users\\rober\\repos\\learning_agents\\venv\\Lib\\site-packages\\smolagents\\models.py:393: FutureWarning: Attribute last_input_token_count is deprecated and will be removed in version 1.20. Please use TokenUsage.input_tokens instead.\n",
      "  warnings.warn(\n",
      "c:\\Users\\rober\\repos\\learning_agents\\venv\\Lib\\site-packages\\smolagents\\models.py:402: FutureWarning: Attribute last_output_token_count is deprecated and will be removed in version 1.20. Please use TokenUsage.output_tokens instead.\n",
      "  warnings.warn(\n"
     ]
    },
    {
     "data": {
      "text/html": [
       "<pre style=\"white-space:pre;overflow-x:auto;line-height:normal;font-family:Menlo,'DejaVu Sans Mono',consolas,'Courier New',monospace\"><span style=\"color: #d4b702; text-decoration-color: #d4b702\">━━━━━━━━━━━━━━━━━━━━━━━━━━━━━━━━━━━━━━━━━━━━━━━━━━━━━ </span><span style=\"font-weight: bold\">Step </span><span style=\"color: #008080; text-decoration-color: #008080; font-weight: bold\">2</span><span style=\"color: #d4b702; text-decoration-color: #d4b702\"> ━━━━━━━━━━━━━━━━━━━━━━━━━━━━━━━━━━━━━━━━━━━━━━━━━━━━━━</span>\n",
       "</pre>\n"
      ],
      "text/plain": [
       "\u001b[38;2;212;183;2m━━━━━━━━━━━━━━━━━━━━━━━━━━━━━━━━━━━━━━━━━━━━━━━━━━━━━ \u001b[0m\u001b[1mStep \u001b[0m\u001b[1;36m2\u001b[0m\u001b[38;2;212;183;2m ━━━━━━━━━━━━━━━━━━━━━━━━━━━━━━━━━━━━━━━━━━━━━━━━━━━━━━\u001b[0m\n"
      ]
     },
     "metadata": {},
     "output_type": "display_data"
    },
    {
     "name": "stderr",
     "output_type": "stream",
     "text": [
      "c:\\Users\\rober\\repos\\learning_agents\\venv\\Lib\\site-packages\\httpx\\_models.py:408: DeprecationWarning: Use 'content=<...>' to upload raw bytes/text content.\n",
      "  headers, stream = encode_request(\n",
      "c:\\Users\\rober\\repos\\learning_agents\\venv\\Lib\\site-packages\\smolagents\\models.py:393: FutureWarning: Attribute last_input_token_count is deprecated and will be removed in version 1.20. Please use TokenUsage.input_tokens instead.\n",
      "  warnings.warn(\n",
      "c:\\Users\\rober\\repos\\learning_agents\\venv\\Lib\\site-packages\\smolagents\\models.py:393: FutureWarning: Attribute last_input_token_count is deprecated and will be removed in version 1.20. Please use TokenUsage.input_tokens instead.\n",
      "  warnings.warn(\n",
      "c:\\Users\\rober\\repos\\learning_agents\\venv\\Lib\\site-packages\\smolagents\\models.py:402: FutureWarning: Attribute last_output_token_count is deprecated and will be removed in version 1.20. Please use TokenUsage.output_tokens instead.\n",
      "  warnings.warn(\n"
     ]
    },
    {
     "data": {
      "text/html": [
       "<pre style=\"white-space:pre;overflow-x:auto;line-height:normal;font-family:Menlo,'DejaVu Sans Mono',consolas,'Courier New',monospace\"> ─ <span style=\"font-weight: bold\">Executing parsed code:</span> ──────────────────────────────────────────────────────────────────────────────────────── \n",
       "  <span style=\"color: #f8f8f2; text-decoration-color: #f8f8f2; background-color: #272822\">area_info </span><span style=\"color: #ff4689; text-decoration-color: #ff4689; background-color: #272822\">=</span><span style=\"color: #f8f8f2; text-decoration-color: #f8f8f2; background-color: #272822\"> web_search(query</span><span style=\"color: #ff4689; text-decoration-color: #ff4689; background-color: #272822\">=</span><span style=\"color: #e6db74; text-decoration-color: #e6db74; background-color: #272822\">\"Paris area square kilometers\"</span><span style=\"color: #f8f8f2; text-decoration-color: #f8f8f2; background-color: #272822\">)</span><span style=\"background-color: #272822\">                                                   </span>  \n",
       "  <span style=\"color: #f8f8f2; text-decoration-color: #f8f8f2; background-color: #272822\">print(area_info)</span><span style=\"background-color: #272822\">                                                                                               </span>  \n",
       "  <span style=\"color: #ff4689; text-decoration-color: #ff4689; background-color: #272822\">&lt;/</span><span style=\"color: #f8f8f2; text-decoration-color: #f8f8f2; background-color: #272822\">code]</span><span style=\"background-color: #272822\">                                                                                                        </span>  \n",
       " ───────────────────────────────────────────────────────────────────────────────────────────────────────────────── \n",
       "</pre>\n"
      ],
      "text/plain": [
       " ─ \u001b[1mExecuting parsed code:\u001b[0m ──────────────────────────────────────────────────────────────────────────────────────── \n",
       "  \u001b[38;2;248;248;242;48;2;39;40;34marea_info\u001b[0m\u001b[38;2;248;248;242;48;2;39;40;34m \u001b[0m\u001b[38;2;255;70;137;48;2;39;40;34m=\u001b[0m\u001b[38;2;248;248;242;48;2;39;40;34m \u001b[0m\u001b[38;2;248;248;242;48;2;39;40;34mweb_search\u001b[0m\u001b[38;2;248;248;242;48;2;39;40;34m(\u001b[0m\u001b[38;2;248;248;242;48;2;39;40;34mquery\u001b[0m\u001b[38;2;255;70;137;48;2;39;40;34m=\u001b[0m\u001b[38;2;230;219;116;48;2;39;40;34m\"\u001b[0m\u001b[38;2;230;219;116;48;2;39;40;34mParis area square kilometers\u001b[0m\u001b[38;2;230;219;116;48;2;39;40;34m\"\u001b[0m\u001b[38;2;248;248;242;48;2;39;40;34m)\u001b[0m\u001b[48;2;39;40;34m                                                   \u001b[0m  \n",
       "  \u001b[38;2;248;248;242;48;2;39;40;34mprint\u001b[0m\u001b[38;2;248;248;242;48;2;39;40;34m(\u001b[0m\u001b[38;2;248;248;242;48;2;39;40;34marea_info\u001b[0m\u001b[38;2;248;248;242;48;2;39;40;34m)\u001b[0m\u001b[48;2;39;40;34m                                                                                               \u001b[0m  \n",
       "  \u001b[38;2;255;70;137;48;2;39;40;34m<\u001b[0m\u001b[38;2;255;70;137;48;2;39;40;34m/\u001b[0m\u001b[38;2;248;248;242;48;2;39;40;34mcode\u001b[0m\u001b[38;2;248;248;242;48;2;39;40;34m]\u001b[0m\u001b[48;2;39;40;34m                                                                                                        \u001b[0m  \n",
       " ───────────────────────────────────────────────────────────────────────────────────────────────────────────────── \n"
      ]
     },
     "metadata": {},
     "output_type": "display_data"
    },
    {
     "data": {
      "text/html": [
       "<pre style=\"white-space:pre;overflow-x:auto;line-height:normal;font-family:Menlo,'DejaVu Sans Mono',consolas,'Courier New',monospace\"><span style=\"font-weight: bold\">Execution logs:</span>\n",
       "## Search Results\n",
       "\n",
       "[“area”、“region”、“zone”、“district”的区别有哪些？_百度知道](https://zhidao.baidu.com/question/2122336636204618067\n",
       ".html)\n",
       "area通常用于面积可测量或计算的地区，界限明确，但不指行政区划。 如：60 years ago, half French people were still \n",
       "living in the rural …\n",
       "\n",
       "[浙江省各市的区号分别是多少？_百度知道](https://zhidao.baidu.com/question/1839910678133115180.html)\n",
       "浙江省下辖各个城市区号为：杭州， 0571； 宁波， 0574 ；温州， 0577；绍兴 ，0575 ；湖州， 0572 ；嘉兴， \n",
       "0573；金华，0579 ；衢州，0570；  …\n",
       "\n",
       "[中国各个省市的电话区号是什么？_百度知道](https://zhidao.baidu.com/question/2138770463264329628.html)\n",
       "中国各个省市的 电话区号 如下： 拓展资料 中华人民共和国国际长途 \n",
       "国家代码：86提供各省市区直辖市政府所在地以及部分大城市的电话区号。 区号的结 …\n",
       "\n",
       "[江苏各地的电话区号都是什么？_百度知道](https://zhidao.baidu.com/question/422392434.html)\n",
       "江苏各地的电话区号都是什么？江苏各地级市的电话区号如下：一、南京：025。二、无锡：0510。三、镇江：0511。四、苏州：05\n",
       "12。五、南 …\n",
       "\n",
       "[会议中的AC和SPC是什么，起到什么作用呢？ - 知乎](https://www.zhihu.com/question/447811887)\n",
       "每个会议的管理结构（级别的名字和分工）可能不大一样，我猜题主说的是IJCAI，管理结构有四级（PC Chairs, Area Chairs, \n",
       "Senior PC Members, PC …\n",
       "\n",
       "</pre>\n"
      ],
      "text/plain": [
       "\u001b[1mExecution logs:\u001b[0m\n",
       "## Search Results\n",
       "\n",
       "[“area”、“region”、“zone”、“district”的区别有哪些？_百度知道](https://zhidao.baidu.com/question/2122336636204618067\n",
       ".html)\n",
       "area通常用于面积可测量或计算的地区，界限明确，但不指行政区划。 如：60 years ago, half French people were still \n",
       "living in the rural …\n",
       "\n",
       "[浙江省各市的区号分别是多少？_百度知道](https://zhidao.baidu.com/question/1839910678133115180.html)\n",
       "浙江省下辖各个城市区号为：杭州， 0571； 宁波， 0574 ；温州， 0577；绍兴 ，0575 ；湖州， 0572 ；嘉兴， \n",
       "0573；金华，0579 ；衢州，0570；  …\n",
       "\n",
       "[中国各个省市的电话区号是什么？_百度知道](https://zhidao.baidu.com/question/2138770463264329628.html)\n",
       "中国各个省市的 电话区号 如下： 拓展资料 中华人民共和国国际长途 \n",
       "国家代码：86提供各省市区直辖市政府所在地以及部分大城市的电话区号。 区号的结 …\n",
       "\n",
       "[江苏各地的电话区号都是什么？_百度知道](https://zhidao.baidu.com/question/422392434.html)\n",
       "江苏各地的电话区号都是什么？江苏各地级市的电话区号如下：一、南京：025。二、无锡：0510。三、镇江：0511。四、苏州：05\n",
       "12。五、南 …\n",
       "\n",
       "[会议中的AC和SPC是什么，起到什么作用呢？ - 知乎](https://www.zhihu.com/question/447811887)\n",
       "每个会议的管理结构（级别的名字和分工）可能不大一样，我猜题主说的是IJCAI，管理结构有四级（PC Chairs, Area Chairs, \n",
       "Senior PC Members, PC …\n",
       "\n"
      ]
     },
     "metadata": {},
     "output_type": "display_data"
    },
    {
     "data": {
      "text/html": [
       "<pre style=\"white-space:pre;overflow-x:auto;line-height:normal;font-family:Menlo,'DejaVu Sans Mono',consolas,'Courier New',monospace\"><span style=\"color: #800000; text-decoration-color: #800000; font-weight: bold\">Code parsing failed on line </span><span style=\"color: #008080; text-decoration-color: #008080; font-weight: bold\">3</span><span style=\"color: #800000; text-decoration-color: #800000; font-weight: bold\"> due to: SyntaxError</span>\n",
       "<span style=\"color: #800000; text-decoration-color: #800000; font-weight: bold\">&lt;</span><span style=\"color: #800080; text-decoration-color: #800080; font-weight: bold\">/</span><span style=\"color: #ff00ff; text-decoration-color: #ff00ff; font-weight: bold\">code</span><span style=\"color: #000000; text-decoration-color: #000000; font-weight: bold\">]       ^</span>\n",
       "<span style=\"color: #000000; text-decoration-color: #000000; font-weight: bold\">Error: unmatched </span><span style=\"color: #008000; text-decoration-color: #008000\">']'</span><span style=\"color: #000000; text-decoration-color: #000000; font-weight: bold\"> (&lt;unknown</span><span style=\"color: #800000; text-decoration-color: #800000; font-weight: bold\">&gt;, line </span><span style=\"color: #008080; text-decoration-color: #008080; font-weight: bold\">3</span><span style=\"color: #800000; text-decoration-color: #800000; font-weight: bold\">)</span>\n",
       "</pre>\n"
      ],
      "text/plain": [
       "\u001b[1;31mCode parsing failed on line \u001b[0m\u001b[1;36m3\u001b[0m\u001b[1;31m due to: SyntaxError\u001b[0m\n",
       "\u001b[1;31m<\u001b[0m\u001b[1;35m/\u001b[0m\u001b[1;95mcode\u001b[0m\u001b[1;39m]\u001b[0m\u001b[1;39m       ^\u001b[0m\n",
       "\u001b[1;39mError: unmatched \u001b[0m\u001b[32m'\u001b[0m\u001b[32m]\u001b[0m\u001b[32m'\u001b[0m\u001b[1;39m \u001b[0m\u001b[1;39m(\u001b[0m\u001b[1;39m<unknown\u001b[0m\u001b[1;31m>\u001b[0m\u001b[1;31m, line \u001b[0m\u001b[1;36m3\u001b[0m\u001b[1;31m)\u001b[0m\n"
      ]
     },
     "metadata": {},
     "output_type": "display_data"
    },
    {
     "data": {
      "text/html": [
       "<pre style=\"white-space:pre;overflow-x:auto;line-height:normal;font-family:Menlo,'DejaVu Sans Mono',consolas,'Courier New',monospace\"><span style=\"color: #7f7f7f; text-decoration-color: #7f7f7f\">[Step 2: Duration 6.26 seconds| Input tokens: 4,640 | Output tokens: 132]</span>\n",
       "</pre>\n"
      ],
      "text/plain": [
       "\u001b[2m[Step 2: Duration 6.26 seconds| Input tokens: 4,640 | Output tokens: 132]\u001b[0m\n"
      ]
     },
     "metadata": {},
     "output_type": "display_data"
    },
    {
     "name": "stderr",
     "output_type": "stream",
     "text": [
      "c:\\Users\\rober\\repos\\learning_agents\\venv\\Lib\\site-packages\\smolagents\\models.py:393: FutureWarning: Attribute last_input_token_count is deprecated and will be removed in version 1.20. Please use TokenUsage.input_tokens instead.\n",
      "  warnings.warn(\n",
      "c:\\Users\\rober\\repos\\learning_agents\\venv\\Lib\\site-packages\\smolagents\\models.py:393: FutureWarning: Attribute last_input_token_count is deprecated and will be removed in version 1.20. Please use TokenUsage.input_tokens instead.\n",
      "  warnings.warn(\n",
      "c:\\Users\\rober\\repos\\learning_agents\\venv\\Lib\\site-packages\\smolagents\\models.py:402: FutureWarning: Attribute last_output_token_count is deprecated and will be removed in version 1.20. Please use TokenUsage.output_tokens instead.\n",
      "  warnings.warn(\n",
      "c:\\Users\\rober\\repos\\learning_agents\\venv\\Lib\\site-packages\\smolagents\\models.py:393: FutureWarning: Attribute last_input_token_count is deprecated and will be removed in version 1.20. Please use TokenUsage.input_tokens instead.\n",
      "  warnings.warn(\n",
      "c:\\Users\\rober\\repos\\learning_agents\\venv\\Lib\\site-packages\\smolagents\\models.py:402: FutureWarning: Attribute last_output_token_count is deprecated and will be removed in version 1.20. Please use TokenUsage.output_tokens instead.\n",
      "  warnings.warn(\n"
     ]
    },
    {
     "data": {
      "text/html": [
       "<pre style=\"white-space:pre;overflow-x:auto;line-height:normal;font-family:Menlo,'DejaVu Sans Mono',consolas,'Courier New',monospace\"><span style=\"color: #d4b702; text-decoration-color: #d4b702\">━━━━━━━━━━━━━━━━━━━━━━━━━━━━━━━━━━━━━━━━━━━━━━━━━━━━━ </span><span style=\"font-weight: bold\">Step </span><span style=\"color: #008080; text-decoration-color: #008080; font-weight: bold\">3</span><span style=\"color: #d4b702; text-decoration-color: #d4b702\"> ━━━━━━━━━━━━━━━━━━━━━━━━━━━━━━━━━━━━━━━━━━━━━━━━━━━━━━</span>\n",
       "</pre>\n"
      ],
      "text/plain": [
       "\u001b[38;2;212;183;2m━━━━━━━━━━━━━━━━━━━━━━━━━━━━━━━━━━━━━━━━━━━━━━━━━━━━━ \u001b[0m\u001b[1mStep \u001b[0m\u001b[1;36m3\u001b[0m\u001b[38;2;212;183;2m ━━━━━━━━━━━━━━━━━━━━━━━━━━━━━━━━━━━━━━━━━━━━━━━━━━━━━━\u001b[0m\n"
      ]
     },
     "metadata": {},
     "output_type": "display_data"
    },
    {
     "name": "stderr",
     "output_type": "stream",
     "text": [
      "c:\\Users\\rober\\repos\\learning_agents\\venv\\Lib\\site-packages\\httpx\\_models.py:408: DeprecationWarning: Use 'content=<...>' to upload raw bytes/text content.\n",
      "  headers, stream = encode_request(\n",
      "c:\\Users\\rober\\repos\\learning_agents\\venv\\Lib\\site-packages\\smolagents\\models.py:393: FutureWarning: Attribute last_input_token_count is deprecated and will be removed in version 1.20. Please use TokenUsage.input_tokens instead.\n",
      "  warnings.warn(\n",
      "c:\\Users\\rober\\repos\\learning_agents\\venv\\Lib\\site-packages\\smolagents\\models.py:393: FutureWarning: Attribute last_input_token_count is deprecated and will be removed in version 1.20. Please use TokenUsage.input_tokens instead.\n",
      "  warnings.warn(\n",
      "c:\\Users\\rober\\repos\\learning_agents\\venv\\Lib\\site-packages\\smolagents\\models.py:402: FutureWarning: Attribute last_output_token_count is deprecated and will be removed in version 1.20. Please use TokenUsage.output_tokens instead.\n",
      "  warnings.warn(\n"
     ]
    },
    {
     "data": {
      "text/html": [
       "<pre style=\"white-space:pre;overflow-x:auto;line-height:normal;font-family:Menlo,'DejaVu Sans Mono',consolas,'Courier New',monospace\"> ─ <span style=\"font-weight: bold\">Executing parsed code:</span> ──────────────────────────────────────────────────────────────────────────────────────── \n",
       "  <span style=\"color: #f8f8f2; text-decoration-color: #f8f8f2; background-color: #272822\">area_info </span><span style=\"color: #ff4689; text-decoration-color: #ff4689; background-color: #272822\">=</span><span style=\"color: #f8f8f2; text-decoration-color: #f8f8f2; background-color: #272822\"> web_search(query</span><span style=\"color: #ff4689; text-decoration-color: #ff4689; background-color: #272822\">=</span><span style=\"color: #e6db74; text-decoration-color: #e6db74; background-color: #272822\">\"Paris area\"</span><span style=\"color: #f8f8f2; text-decoration-color: #f8f8f2; background-color: #272822\">)</span><span style=\"background-color: #272822\">                                                                     </span>  \n",
       "  <span style=\"color: #f8f8f2; text-decoration-color: #f8f8f2; background-color: #272822\">print(area_info)</span><span style=\"background-color: #272822\">                                                                                               </span>  \n",
       " ───────────────────────────────────────────────────────────────────────────────────────────────────────────────── \n",
       "</pre>\n"
      ],
      "text/plain": [
       " ─ \u001b[1mExecuting parsed code:\u001b[0m ──────────────────────────────────────────────────────────────────────────────────────── \n",
       "  \u001b[38;2;248;248;242;48;2;39;40;34marea_info\u001b[0m\u001b[38;2;248;248;242;48;2;39;40;34m \u001b[0m\u001b[38;2;255;70;137;48;2;39;40;34m=\u001b[0m\u001b[38;2;248;248;242;48;2;39;40;34m \u001b[0m\u001b[38;2;248;248;242;48;2;39;40;34mweb_search\u001b[0m\u001b[38;2;248;248;242;48;2;39;40;34m(\u001b[0m\u001b[38;2;248;248;242;48;2;39;40;34mquery\u001b[0m\u001b[38;2;255;70;137;48;2;39;40;34m=\u001b[0m\u001b[38;2;230;219;116;48;2;39;40;34m\"\u001b[0m\u001b[38;2;230;219;116;48;2;39;40;34mParis area\u001b[0m\u001b[38;2;230;219;116;48;2;39;40;34m\"\u001b[0m\u001b[38;2;248;248;242;48;2;39;40;34m)\u001b[0m\u001b[48;2;39;40;34m                                                                     \u001b[0m  \n",
       "  \u001b[38;2;248;248;242;48;2;39;40;34mprint\u001b[0m\u001b[38;2;248;248;242;48;2;39;40;34m(\u001b[0m\u001b[38;2;248;248;242;48;2;39;40;34marea_info\u001b[0m\u001b[38;2;248;248;242;48;2;39;40;34m)\u001b[0m\u001b[48;2;39;40;34m                                                                                               \u001b[0m  \n",
       " ───────────────────────────────────────────────────────────────────────────────────────────────────────────────── \n"
      ]
     },
     "metadata": {},
     "output_type": "display_data"
    },
    {
     "data": {
      "text/html": [
       "<pre style=\"white-space:pre;overflow-x:auto;line-height:normal;font-family:Menlo,'DejaVu Sans Mono',consolas,'Courier New',monospace\"><span style=\"font-weight: bold\">Execution logs:</span>\n",
       "## Search Results\n",
       "\n",
       "[Great restaurants in Paris: list of personal favs that people ... - \n",
       "Reddit](https://www.reddit.com/r/paris/comments/zktov3/great_restaurants_in_paris_list_of_personal_favs/)\n",
       "Dec 13, 2022 · Great restaurants in Paris: list of personal favs that people strongly recommend (compilation of \n",
       "places …\n",
       "\n",
       "[HonkaiStarRail - Reddit](https://www.reddit.com/r/HonkaiStarRail/)\n",
       "Honkai: Star Rail is an all-new strategy-RPG title in the Honkai series that takes players on a cosmic adventure \n",
       "across the stars. Hop …\n",
       "\n",
       "[Is the Paris Museum Pass worth it? : r/ParisTravelGuide - \n",
       "Reddit](https://www.reddit.com/r/ParisTravelGuide/comments/134uwkx/is_the_paris_museum_pass_worth_it/)\n",
       "May 1, 2023 · The Paris Museum Pass does not include transportation. The Paris Pass includes a zone 1-3 Paris \n",
       "Visite Pass, but …\n",
       "\n",
       "[Tips to avoid pickpocketers in Paris : r/ParisTravelGuide - \n",
       "Reddit](https://www.reddit.com/r/ParisTravelGuide/comments/1472ovd/tips_to_avoid_pickpocketers_in_paris/)\n",
       "Jun 11, 2023 · A community for Paris lovers or first-timers about traveling to the city, as a tourist or off the \n",
       "beaten path. Itinerary …\n",
       "\n",
       "[Reddit - Dive into anything](https://www.reddit.com/)\n",
       "Reddit is a network of communities where people can dive into their interests, hobbies and passions. There's a \n",
       "community for …\n",
       "\n",
       "Out: None\n",
       "</pre>\n"
      ],
      "text/plain": [
       "\u001b[1mExecution logs:\u001b[0m\n",
       "## Search Results\n",
       "\n",
       "[Great restaurants in Paris: list of personal favs that people ... - \n",
       "Reddit](https://www.reddit.com/r/paris/comments/zktov3/great_restaurants_in_paris_list_of_personal_favs/)\n",
       "Dec 13, 2022 · Great restaurants in Paris: list of personal favs that people strongly recommend (compilation of \n",
       "places …\n",
       "\n",
       "[HonkaiStarRail - Reddit](https://www.reddit.com/r/HonkaiStarRail/)\n",
       "Honkai: Star Rail is an all-new strategy-RPG title in the Honkai series that takes players on a cosmic adventure \n",
       "across the stars. Hop …\n",
       "\n",
       "[Is the Paris Museum Pass worth it? : r/ParisTravelGuide - \n",
       "Reddit](https://www.reddit.com/r/ParisTravelGuide/comments/134uwkx/is_the_paris_museum_pass_worth_it/)\n",
       "May 1, 2023 · The Paris Museum Pass does not include transportation. The Paris Pass includes a zone 1-3 Paris \n",
       "Visite Pass, but …\n",
       "\n",
       "[Tips to avoid pickpocketers in Paris : r/ParisTravelGuide - \n",
       "Reddit](https://www.reddit.com/r/ParisTravelGuide/comments/1472ovd/tips_to_avoid_pickpocketers_in_paris/)\n",
       "Jun 11, 2023 · A community for Paris lovers or first-timers about traveling to the city, as a tourist or off the \n",
       "beaten path. Itinerary …\n",
       "\n",
       "[Reddit - Dive into anything](https://www.reddit.com/)\n",
       "Reddit is a network of communities where people can dive into their interests, hobbies and passions. There's a \n",
       "community for …\n",
       "\n",
       "Out: None\n"
      ]
     },
     "metadata": {},
     "output_type": "display_data"
    },
    {
     "name": "stderr",
     "output_type": "stream",
     "text": [
      "c:\\Users\\rober\\repos\\learning_agents\\venv\\Lib\\site-packages\\smolagents\\models.py:393: FutureWarning: Attribute last_input_token_count is deprecated and will be removed in version 1.20. Please use TokenUsage.input_tokens instead.\n",
      "  warnings.warn(\n",
      "c:\\Users\\rober\\repos\\learning_agents\\venv\\Lib\\site-packages\\smolagents\\models.py:393: FutureWarning: Attribute last_input_token_count is deprecated and will be removed in version 1.20. Please use TokenUsage.input_tokens instead.\n",
      "  warnings.warn(\n",
      "c:\\Users\\rober\\repos\\learning_agents\\venv\\Lib\\site-packages\\smolagents\\models.py:402: FutureWarning: Attribute last_output_token_count is deprecated and will be removed in version 1.20. Please use TokenUsage.output_tokens instead.\n",
      "  warnings.warn(\n"
     ]
    },
    {
     "data": {
      "text/html": [
       "<pre style=\"white-space:pre;overflow-x:auto;line-height:normal;font-family:Menlo,'DejaVu Sans Mono',consolas,'Courier New',monospace\"><span style=\"color: #7f7f7f; text-decoration-color: #7f7f7f\">[Step 3: Duration 8.53 seconds| Input tokens: 7,941 | Output tokens: 166]</span>\n",
       "</pre>\n"
      ],
      "text/plain": [
       "\u001b[2m[Step 3: Duration 8.53 seconds| Input tokens: 7,941 | Output tokens: 166]\u001b[0m\n"
      ]
     },
     "metadata": {},
     "output_type": "display_data"
    },
    {
     "name": "stderr",
     "output_type": "stream",
     "text": [
      "c:\\Users\\rober\\repos\\learning_agents\\venv\\Lib\\site-packages\\smolagents\\models.py:393: FutureWarning: Attribute last_input_token_count is deprecated and will be removed in version 1.20. Please use TokenUsage.input_tokens instead.\n",
      "  warnings.warn(\n",
      "c:\\Users\\rober\\repos\\learning_agents\\venv\\Lib\\site-packages\\smolagents\\models.py:393: FutureWarning: Attribute last_input_token_count is deprecated and will be removed in version 1.20. Please use TokenUsage.input_tokens instead.\n",
      "  warnings.warn(\n",
      "c:\\Users\\rober\\repos\\learning_agents\\venv\\Lib\\site-packages\\smolagents\\models.py:402: FutureWarning: Attribute last_output_token_count is deprecated and will be removed in version 1.20. Please use TokenUsage.output_tokens instead.\n",
      "  warnings.warn(\n",
      "c:\\Users\\rober\\repos\\learning_agents\\venv\\Lib\\site-packages\\smolagents\\models.py:393: FutureWarning: Attribute last_input_token_count is deprecated and will be removed in version 1.20. Please use TokenUsage.input_tokens instead.\n",
      "  warnings.warn(\n",
      "c:\\Users\\rober\\repos\\learning_agents\\venv\\Lib\\site-packages\\smolagents\\models.py:402: FutureWarning: Attribute last_output_token_count is deprecated and will be removed in version 1.20. Please use TokenUsage.output_tokens instead.\n",
      "  warnings.warn(\n"
     ]
    },
    {
     "data": {
      "text/html": [
       "<pre style=\"white-space:pre;overflow-x:auto;line-height:normal;font-family:Menlo,'DejaVu Sans Mono',consolas,'Courier New',monospace\"><span style=\"color: #d4b702; text-decoration-color: #d4b702\">━━━━━━━━━━━━━━━━━━━━━━━━━━━━━━━━━━━━━━━━━━━━━━━━━━━━━ </span><span style=\"font-weight: bold\">Step </span><span style=\"color: #008080; text-decoration-color: #008080; font-weight: bold\">4</span><span style=\"color: #d4b702; text-decoration-color: #d4b702\"> ━━━━━━━━━━━━━━━━━━━━━━━━━━━━━━━━━━━━━━━━━━━━━━━━━━━━━━</span>\n",
       "</pre>\n"
      ],
      "text/plain": [
       "\u001b[38;2;212;183;2m━━━━━━━━━━━━━━━━━━━━━━━━━━━━━━━━━━━━━━━━━━━━━━━━━━━━━ \u001b[0m\u001b[1mStep \u001b[0m\u001b[1;36m4\u001b[0m\u001b[38;2;212;183;2m ━━━━━━━━━━━━━━━━━━━━━━━━━━━━━━━━━━━━━━━━━━━━━━━━━━━━━━\u001b[0m\n"
      ]
     },
     "metadata": {},
     "output_type": "display_data"
    },
    {
     "name": "stderr",
     "output_type": "stream",
     "text": [
      "c:\\Users\\rober\\repos\\learning_agents\\venv\\Lib\\site-packages\\httpx\\_models.py:408: DeprecationWarning: Use 'content=<...>' to upload raw bytes/text content.\n",
      "  headers, stream = encode_request(\n",
      "c:\\Users\\rober\\repos\\learning_agents\\venv\\Lib\\site-packages\\smolagents\\models.py:393: FutureWarning: Attribute last_input_token_count is deprecated and will be removed in version 1.20. Please use TokenUsage.input_tokens instead.\n",
      "  warnings.warn(\n",
      "c:\\Users\\rober\\repos\\learning_agents\\venv\\Lib\\site-packages\\smolagents\\models.py:393: FutureWarning: Attribute last_input_token_count is deprecated and will be removed in version 1.20. Please use TokenUsage.input_tokens instead.\n",
      "  warnings.warn(\n",
      "c:\\Users\\rober\\repos\\learning_agents\\venv\\Lib\\site-packages\\smolagents\\models.py:402: FutureWarning: Attribute last_output_token_count is deprecated and will be removed in version 1.20. Please use TokenUsage.output_tokens instead.\n",
      "  warnings.warn(\n"
     ]
    },
    {
     "data": {
      "text/html": [
       "<pre style=\"white-space:pre;overflow-x:auto;line-height:normal;font-family:Menlo,'DejaVu Sans Mono',consolas,'Courier New',monospace\"> ─ <span style=\"font-weight: bold\">Executing parsed code:</span> ──────────────────────────────────────────────────────────────────────────────────────── \n",
       "  <span style=\"color: #f8f8f2; text-decoration-color: #f8f8f2; background-color: #272822\">area_info </span><span style=\"color: #ff4689; text-decoration-color: #ff4689; background-color: #272822\">=</span><span style=\"color: #f8f8f2; text-decoration-color: #f8f8f2; background-color: #272822\"> web_search(query</span><span style=\"color: #ff4689; text-decoration-color: #ff4689; background-color: #272822\">=</span><span style=\"color: #e6db74; text-decoration-color: #e6db74; background-color: #272822\">\"Paris city area square kilometers\"</span><span style=\"color: #f8f8f2; text-decoration-color: #f8f8f2; background-color: #272822\">)</span><span style=\"background-color: #272822\">                                              </span>  \n",
       "  <span style=\"color: #f8f8f2; text-decoration-color: #f8f8f2; background-color: #272822\">print(area_info)</span><span style=\"background-color: #272822\">                                                                                               </span>  \n",
       " ───────────────────────────────────────────────────────────────────────────────────────────────────────────────── \n",
       "</pre>\n"
      ],
      "text/plain": [
       " ─ \u001b[1mExecuting parsed code:\u001b[0m ──────────────────────────────────────────────────────────────────────────────────────── \n",
       "  \u001b[38;2;248;248;242;48;2;39;40;34marea_info\u001b[0m\u001b[38;2;248;248;242;48;2;39;40;34m \u001b[0m\u001b[38;2;255;70;137;48;2;39;40;34m=\u001b[0m\u001b[38;2;248;248;242;48;2;39;40;34m \u001b[0m\u001b[38;2;248;248;242;48;2;39;40;34mweb_search\u001b[0m\u001b[38;2;248;248;242;48;2;39;40;34m(\u001b[0m\u001b[38;2;248;248;242;48;2;39;40;34mquery\u001b[0m\u001b[38;2;255;70;137;48;2;39;40;34m=\u001b[0m\u001b[38;2;230;219;116;48;2;39;40;34m\"\u001b[0m\u001b[38;2;230;219;116;48;2;39;40;34mParis city area square kilometers\u001b[0m\u001b[38;2;230;219;116;48;2;39;40;34m\"\u001b[0m\u001b[38;2;248;248;242;48;2;39;40;34m)\u001b[0m\u001b[48;2;39;40;34m                                              \u001b[0m  \n",
       "  \u001b[38;2;248;248;242;48;2;39;40;34mprint\u001b[0m\u001b[38;2;248;248;242;48;2;39;40;34m(\u001b[0m\u001b[38;2;248;248;242;48;2;39;40;34marea_info\u001b[0m\u001b[38;2;248;248;242;48;2;39;40;34m)\u001b[0m\u001b[48;2;39;40;34m                                                                                               \u001b[0m  \n",
       " ───────────────────────────────────────────────────────────────────────────────────────────────────────────────── \n"
      ]
     },
     "metadata": {},
     "output_type": "display_data"
    },
    {
     "data": {
      "text/html": [
       "<pre style=\"white-space:pre;overflow-x:auto;line-height:normal;font-family:Menlo,'DejaVu Sans Mono',consolas,'Courier New',monospace\"><span style=\"font-weight: bold\">Execution logs:</span>\n",
       "## Search Results\n",
       "\n",
       "[Great restaurants in Paris: list of personal favs that people ... - \n",
       "Reddit](https://www.reddit.com/r/paris/comments/zktov3/great_restaurants_in_paris_list_of_personal_favs/)\n",
       "Dec 13, 2022 · Great restaurants in Paris: list of personal favs that people strongly recommend (compilation of \n",
       "places …\n",
       "\n",
       "[HonkaiStarRail - Reddit](https://www.reddit.com/r/HonkaiStarRail/)\n",
       "Honkai: Star Rail is an all-new strategy-RPG title in the Honkai series that takes players on a cosmic adventure \n",
       "across the stars. Hop …\n",
       "\n",
       "[Is the Paris Museum Pass worth it? : r/ParisTravelGuide - \n",
       "Reddit](https://www.reddit.com/r/ParisTravelGuide/comments/134uwkx/is_the_paris_museum_pass_worth_it/)\n",
       "May 1, 2023 · The Paris Museum Pass does not include transportation. The Paris Pass includes a zone 1-3 Paris \n",
       "Visite Pass, but …\n",
       "\n",
       "[Tips to avoid pickpocketers in Paris : r/ParisTravelGuide - \n",
       "Reddit](https://www.reddit.com/r/ParisTravelGuide/comments/1472ovd/tips_to_avoid_pickpocketers_in_paris/)\n",
       "Jun 11, 2023 · A community for Paris lovers or first-timers about traveling to the city, as a tourist or off the \n",
       "beaten path. Itinerary …\n",
       "\n",
       "[Reddit - Dive into anything](https://www.reddit.com/)\n",
       "Reddit is a network of communities where people can dive into their interests, hobbies and passions. There's a \n",
       "community for …\n",
       "\n",
       "Out: None\n",
       "</pre>\n"
      ],
      "text/plain": [
       "\u001b[1mExecution logs:\u001b[0m\n",
       "## Search Results\n",
       "\n",
       "[Great restaurants in Paris: list of personal favs that people ... - \n",
       "Reddit](https://www.reddit.com/r/paris/comments/zktov3/great_restaurants_in_paris_list_of_personal_favs/)\n",
       "Dec 13, 2022 · Great restaurants in Paris: list of personal favs that people strongly recommend (compilation of \n",
       "places …\n",
       "\n",
       "[HonkaiStarRail - Reddit](https://www.reddit.com/r/HonkaiStarRail/)\n",
       "Honkai: Star Rail is an all-new strategy-RPG title in the Honkai series that takes players on a cosmic adventure \n",
       "across the stars. Hop …\n",
       "\n",
       "[Is the Paris Museum Pass worth it? : r/ParisTravelGuide - \n",
       "Reddit](https://www.reddit.com/r/ParisTravelGuide/comments/134uwkx/is_the_paris_museum_pass_worth_it/)\n",
       "May 1, 2023 · The Paris Museum Pass does not include transportation. The Paris Pass includes a zone 1-3 Paris \n",
       "Visite Pass, but …\n",
       "\n",
       "[Tips to avoid pickpocketers in Paris : r/ParisTravelGuide - \n",
       "Reddit](https://www.reddit.com/r/ParisTravelGuide/comments/1472ovd/tips_to_avoid_pickpocketers_in_paris/)\n",
       "Jun 11, 2023 · A community for Paris lovers or first-timers about traveling to the city, as a tourist or off the \n",
       "beaten path. Itinerary …\n",
       "\n",
       "[Reddit - Dive into anything](https://www.reddit.com/)\n",
       "Reddit is a network of communities where people can dive into their interests, hobbies and passions. There's a \n",
       "community for …\n",
       "\n",
       "Out: None\n"
      ]
     },
     "metadata": {},
     "output_type": "display_data"
    },
    {
     "name": "stderr",
     "output_type": "stream",
     "text": [
      "c:\\Users\\rober\\repos\\learning_agents\\venv\\Lib\\site-packages\\smolagents\\models.py:393: FutureWarning: Attribute last_input_token_count is deprecated and will be removed in version 1.20. Please use TokenUsage.input_tokens instead.\n",
      "  warnings.warn(\n",
      "c:\\Users\\rober\\repos\\learning_agents\\venv\\Lib\\site-packages\\smolagents\\models.py:393: FutureWarning: Attribute last_input_token_count is deprecated and will be removed in version 1.20. Please use TokenUsage.input_tokens instead.\n",
      "  warnings.warn(\n",
      "c:\\Users\\rober\\repos\\learning_agents\\venv\\Lib\\site-packages\\smolagents\\models.py:402: FutureWarning: Attribute last_output_token_count is deprecated and will be removed in version 1.20. Please use TokenUsage.output_tokens instead.\n",
      "  warnings.warn(\n"
     ]
    },
    {
     "data": {
      "text/html": [
       "<pre style=\"white-space:pre;overflow-x:auto;line-height:normal;font-family:Menlo,'DejaVu Sans Mono',consolas,'Courier New',monospace\"><span style=\"color: #7f7f7f; text-decoration-color: #7f7f7f\">[Step 4: Duration 10.35 seconds| Input tokens: 11,693 | Output tokens: 206]</span>\n",
       "</pre>\n"
      ],
      "text/plain": [
       "\u001b[2m[Step 4: Duration 10.35 seconds| Input tokens: 11,693 | Output tokens: 206]\u001b[0m\n"
      ]
     },
     "metadata": {},
     "output_type": "display_data"
    },
    {
     "name": "stderr",
     "output_type": "stream",
     "text": [
      "c:\\Users\\rober\\repos\\learning_agents\\venv\\Lib\\site-packages\\smolagents\\models.py:393: FutureWarning: Attribute last_input_token_count is deprecated and will be removed in version 1.20. Please use TokenUsage.input_tokens instead.\n",
      "  warnings.warn(\n",
      "c:\\Users\\rober\\repos\\learning_agents\\venv\\Lib\\site-packages\\smolagents\\models.py:393: FutureWarning: Attribute last_input_token_count is deprecated and will be removed in version 1.20. Please use TokenUsage.input_tokens instead.\n",
      "  warnings.warn(\n",
      "c:\\Users\\rober\\repos\\learning_agents\\venv\\Lib\\site-packages\\smolagents\\models.py:402: FutureWarning: Attribute last_output_token_count is deprecated and will be removed in version 1.20. Please use TokenUsage.output_tokens instead.\n",
      "  warnings.warn(\n",
      "c:\\Users\\rober\\repos\\learning_agents\\venv\\Lib\\site-packages\\smolagents\\models.py:393: FutureWarning: Attribute last_input_token_count is deprecated and will be removed in version 1.20. Please use TokenUsage.input_tokens instead.\n",
      "  warnings.warn(\n",
      "c:\\Users\\rober\\repos\\learning_agents\\venv\\Lib\\site-packages\\smolagents\\models.py:402: FutureWarning: Attribute last_output_token_count is deprecated and will be removed in version 1.20. Please use TokenUsage.output_tokens instead.\n",
      "  warnings.warn(\n"
     ]
    },
    {
     "data": {
      "text/html": [
       "<pre style=\"white-space:pre;overflow-x:auto;line-height:normal;font-family:Menlo,'DejaVu Sans Mono',consolas,'Courier New',monospace\"><span style=\"color: #d4b702; text-decoration-color: #d4b702\">━━━━━━━━━━━━━━━━━━━━━━━━━━━━━━━━━━━━━━━━━━━━━━━━━━━━━ </span><span style=\"font-weight: bold\">Step </span><span style=\"color: #008080; text-decoration-color: #008080; font-weight: bold\">5</span><span style=\"color: #d4b702; text-decoration-color: #d4b702\"> ━━━━━━━━━━━━━━━━━━━━━━━━━━━━━━━━━━━━━━━━━━━━━━━━━━━━━━</span>\n",
       "</pre>\n"
      ],
      "text/plain": [
       "\u001b[38;2;212;183;2m━━━━━━━━━━━━━━━━━━━━━━━━━━━━━━━━━━━━━━━━━━━━━━━━━━━━━ \u001b[0m\u001b[1mStep \u001b[0m\u001b[1;36m5\u001b[0m\u001b[38;2;212;183;2m ━━━━━━━━━━━━━━━━━━━━━━━━━━━━━━━━━━━━━━━━━━━━━━━━━━━━━━\u001b[0m\n"
      ]
     },
     "metadata": {},
     "output_type": "display_data"
    },
    {
     "name": "stderr",
     "output_type": "stream",
     "text": [
      "c:\\Users\\rober\\repos\\learning_agents\\venv\\Lib\\site-packages\\httpx\\_models.py:408: DeprecationWarning: Use 'content=<...>' to upload raw bytes/text content.\n",
      "  headers, stream = encode_request(\n",
      "c:\\Users\\rober\\repos\\learning_agents\\venv\\Lib\\site-packages\\smolagents\\models.py:393: FutureWarning: Attribute last_input_token_count is deprecated and will be removed in version 1.20. Please use TokenUsage.input_tokens instead.\n",
      "  warnings.warn(\n",
      "c:\\Users\\rober\\repos\\learning_agents\\venv\\Lib\\site-packages\\smolagents\\models.py:393: FutureWarning: Attribute last_input_token_count is deprecated and will be removed in version 1.20. Please use TokenUsage.input_tokens instead.\n",
      "  warnings.warn(\n",
      "c:\\Users\\rober\\repos\\learning_agents\\venv\\Lib\\site-packages\\smolagents\\models.py:402: FutureWarning: Attribute last_output_token_count is deprecated and will be removed in version 1.20. Please use TokenUsage.output_tokens instead.\n",
      "  warnings.warn(\n"
     ]
    },
    {
     "data": {
      "text/html": [
       "<pre style=\"white-space:pre;overflow-x:auto;line-height:normal;font-family:Menlo,'DejaVu Sans Mono',consolas,'Courier New',monospace\"> ─ <span style=\"font-weight: bold\">Executing parsed code:</span> ──────────────────────────────────────────────────────────────────────────────────────── \n",
       "  <span style=\"color: #f8f8f2; text-decoration-color: #f8f8f2; background-color: #272822\">area_info </span><span style=\"color: #ff4689; text-decoration-color: #ff4689; background-color: #272822\">=</span><span style=\"color: #f8f8f2; text-decoration-color: #f8f8f2; background-color: #272822\"> web_search(query</span><span style=\"color: #ff4689; text-decoration-color: #ff4689; background-color: #272822\">=</span><span style=\"color: #e6db74; text-decoration-color: #e6db74; background-color: #272822\">\"Paris city surface area\"</span><span style=\"color: #f8f8f2; text-decoration-color: #f8f8f2; background-color: #272822\">)</span><span style=\"background-color: #272822\">                                                        </span>  \n",
       "  <span style=\"color: #f8f8f2; text-decoration-color: #f8f8f2; background-color: #272822\">print(area_info)</span><span style=\"background-color: #272822\">                                                                                               </span>  \n",
       " ───────────────────────────────────────────────────────────────────────────────────────────────────────────────── \n",
       "</pre>\n"
      ],
      "text/plain": [
       " ─ \u001b[1mExecuting parsed code:\u001b[0m ──────────────────────────────────────────────────────────────────────────────────────── \n",
       "  \u001b[38;2;248;248;242;48;2;39;40;34marea_info\u001b[0m\u001b[38;2;248;248;242;48;2;39;40;34m \u001b[0m\u001b[38;2;255;70;137;48;2;39;40;34m=\u001b[0m\u001b[38;2;248;248;242;48;2;39;40;34m \u001b[0m\u001b[38;2;248;248;242;48;2;39;40;34mweb_search\u001b[0m\u001b[38;2;248;248;242;48;2;39;40;34m(\u001b[0m\u001b[38;2;248;248;242;48;2;39;40;34mquery\u001b[0m\u001b[38;2;255;70;137;48;2;39;40;34m=\u001b[0m\u001b[38;2;230;219;116;48;2;39;40;34m\"\u001b[0m\u001b[38;2;230;219;116;48;2;39;40;34mParis city surface area\u001b[0m\u001b[38;2;230;219;116;48;2;39;40;34m\"\u001b[0m\u001b[38;2;248;248;242;48;2;39;40;34m)\u001b[0m\u001b[48;2;39;40;34m                                                        \u001b[0m  \n",
       "  \u001b[38;2;248;248;242;48;2;39;40;34mprint\u001b[0m\u001b[38;2;248;248;242;48;2;39;40;34m(\u001b[0m\u001b[38;2;248;248;242;48;2;39;40;34marea_info\u001b[0m\u001b[38;2;248;248;242;48;2;39;40;34m)\u001b[0m\u001b[48;2;39;40;34m                                                                                               \u001b[0m  \n",
       " ───────────────────────────────────────────────────────────────────────────────────────────────────────────────── \n"
      ]
     },
     "metadata": {},
     "output_type": "display_data"
    },
    {
     "data": {
      "text/html": [
       "<pre style=\"white-space:pre;overflow-x:auto;line-height:normal;font-family:Menlo,'DejaVu Sans Mono',consolas,'Courier New',monospace\"><span style=\"font-weight: bold\">Execution logs:</span>\n",
       "## Search Results\n",
       "\n",
       "[Great restaurants in Paris: list of personal favs that people ... - \n",
       "Reddit](https://www.reddit.com/r/paris/comments/zktov3/great_restaurants_in_paris_list_of_personal_favs/)\n",
       "Dec 13, 2022 · Great restaurants in Paris: list of personal favs that people strongly recommend (compilation of \n",
       "places …\n",
       "\n",
       "[HonkaiStarRail - Reddit](https://www.reddit.com/r/HonkaiStarRail/)\n",
       "Honkai: Star Rail is an all-new strategy-RPG title in the Honkai series that takes players on a cosmic adventure \n",
       "across the stars. Hop …\n",
       "\n",
       "[Is the Paris Museum Pass worth it? : r/ParisTravelGuide - \n",
       "Reddit](https://www.reddit.com/r/ParisTravelGuide/comments/134uwkx/is_the_paris_museum_pass_worth_it/)\n",
       "May 1, 2023 · The Paris Museum Pass does not include transportation. The Paris Pass includes a zone 1-3 Paris \n",
       "Visite Pass, but …\n",
       "\n",
       "[Tips to avoid pickpocketers in Paris : r/ParisTravelGuide - \n",
       "Reddit](https://www.reddit.com/r/ParisTravelGuide/comments/1472ovd/tips_to_avoid_pickpocketers_in_paris/)\n",
       "Jun 11, 2023 · A community for Paris lovers or first-timers about traveling to the city, as a tourist or off the \n",
       "beaten path. Itinerary …\n",
       "\n",
       "[Reddit - Dive into anything](https://www.reddit.com/)\n",
       "Reddit is a network of communities where people can dive into their interests, hobbies and passions. There's a \n",
       "community for …\n",
       "\n",
       "Out: None\n",
       "</pre>\n"
      ],
      "text/plain": [
       "\u001b[1mExecution logs:\u001b[0m\n",
       "## Search Results\n",
       "\n",
       "[Great restaurants in Paris: list of personal favs that people ... - \n",
       "Reddit](https://www.reddit.com/r/paris/comments/zktov3/great_restaurants_in_paris_list_of_personal_favs/)\n",
       "Dec 13, 2022 · Great restaurants in Paris: list of personal favs that people strongly recommend (compilation of \n",
       "places …\n",
       "\n",
       "[HonkaiStarRail - Reddit](https://www.reddit.com/r/HonkaiStarRail/)\n",
       "Honkai: Star Rail is an all-new strategy-RPG title in the Honkai series that takes players on a cosmic adventure \n",
       "across the stars. Hop …\n",
       "\n",
       "[Is the Paris Museum Pass worth it? : r/ParisTravelGuide - \n",
       "Reddit](https://www.reddit.com/r/ParisTravelGuide/comments/134uwkx/is_the_paris_museum_pass_worth_it/)\n",
       "May 1, 2023 · The Paris Museum Pass does not include transportation. The Paris Pass includes a zone 1-3 Paris \n",
       "Visite Pass, but …\n",
       "\n",
       "[Tips to avoid pickpocketers in Paris : r/ParisTravelGuide - \n",
       "Reddit](https://www.reddit.com/r/ParisTravelGuide/comments/1472ovd/tips_to_avoid_pickpocketers_in_paris/)\n",
       "Jun 11, 2023 · A community for Paris lovers or first-timers about traveling to the city, as a tourist or off the \n",
       "beaten path. Itinerary …\n",
       "\n",
       "[Reddit - Dive into anything](https://www.reddit.com/)\n",
       "Reddit is a network of communities where people can dive into their interests, hobbies and passions. There's a \n",
       "community for …\n",
       "\n",
       "Out: None\n"
      ]
     },
     "metadata": {},
     "output_type": "display_data"
    },
    {
     "name": "stderr",
     "output_type": "stream",
     "text": [
      "c:\\Users\\rober\\repos\\learning_agents\\venv\\Lib\\site-packages\\smolagents\\models.py:393: FutureWarning: Attribute last_input_token_count is deprecated and will be removed in version 1.20. Please use TokenUsage.input_tokens instead.\n",
      "  warnings.warn(\n",
      "c:\\Users\\rober\\repos\\learning_agents\\venv\\Lib\\site-packages\\smolagents\\models.py:393: FutureWarning: Attribute last_input_token_count is deprecated and will be removed in version 1.20. Please use TokenUsage.input_tokens instead.\n",
      "  warnings.warn(\n",
      "c:\\Users\\rober\\repos\\learning_agents\\venv\\Lib\\site-packages\\smolagents\\models.py:402: FutureWarning: Attribute last_output_token_count is deprecated and will be removed in version 1.20. Please use TokenUsage.output_tokens instead.\n",
      "  warnings.warn(\n"
     ]
    },
    {
     "data": {
      "text/html": [
       "<pre style=\"white-space:pre;overflow-x:auto;line-height:normal;font-family:Menlo,'DejaVu Sans Mono',consolas,'Courier New',monospace\"><span style=\"color: #7f7f7f; text-decoration-color: #7f7f7f\">[Step 5: Duration 8.36 seconds| Input tokens: 15,905 | Output tokens: 246]</span>\n",
       "</pre>\n"
      ],
      "text/plain": [
       "\u001b[2m[Step 5: Duration 8.36 seconds| Input tokens: 15,905 | Output tokens: 246]\u001b[0m\n"
      ]
     },
     "metadata": {},
     "output_type": "display_data"
    },
    {
     "name": "stderr",
     "output_type": "stream",
     "text": [
      "c:\\Users\\rober\\repos\\learning_agents\\venv\\Lib\\site-packages\\smolagents\\models.py:393: FutureWarning: Attribute last_input_token_count is deprecated and will be removed in version 1.20. Please use TokenUsage.input_tokens instead.\n",
      "  warnings.warn(\n",
      "c:\\Users\\rober\\repos\\learning_agents\\venv\\Lib\\site-packages\\smolagents\\models.py:393: FutureWarning: Attribute last_input_token_count is deprecated and will be removed in version 1.20. Please use TokenUsage.input_tokens instead.\n",
      "  warnings.warn(\n",
      "c:\\Users\\rober\\repos\\learning_agents\\venv\\Lib\\site-packages\\smolagents\\models.py:402: FutureWarning: Attribute last_output_token_count is deprecated and will be removed in version 1.20. Please use TokenUsage.output_tokens instead.\n",
      "  warnings.warn(\n",
      "c:\\Users\\rober\\repos\\learning_agents\\venv\\Lib\\site-packages\\smolagents\\models.py:393: FutureWarning: Attribute last_input_token_count is deprecated and will be removed in version 1.20. Please use TokenUsage.input_tokens instead.\n",
      "  warnings.warn(\n",
      "c:\\Users\\rober\\repos\\learning_agents\\venv\\Lib\\site-packages\\smolagents\\models.py:402: FutureWarning: Attribute last_output_token_count is deprecated and will be removed in version 1.20. Please use TokenUsage.output_tokens instead.\n",
      "  warnings.warn(\n"
     ]
    },
    {
     "data": {
      "text/html": [
       "<pre style=\"white-space:pre;overflow-x:auto;line-height:normal;font-family:Menlo,'DejaVu Sans Mono',consolas,'Courier New',monospace\"><span style=\"color: #d4b702; text-decoration-color: #d4b702\">━━━━━━━━━━━━━━━━━━━━━━━━━━━━━━━━━━━━━━━━━━━━━━━━━━━━━ </span><span style=\"font-weight: bold\">Step </span><span style=\"color: #008080; text-decoration-color: #008080; font-weight: bold\">6</span><span style=\"color: #d4b702; text-decoration-color: #d4b702\"> ━━━━━━━━━━━━━━━━━━━━━━━━━━━━━━━━━━━━━━━━━━━━━━━━━━━━━━</span>\n",
       "</pre>\n"
      ],
      "text/plain": [
       "\u001b[38;2;212;183;2m━━━━━━━━━━━━━━━━━━━━━━━━━━━━━━━━━━━━━━━━━━━━━━━━━━━━━ \u001b[0m\u001b[1mStep \u001b[0m\u001b[1;36m6\u001b[0m\u001b[38;2;212;183;2m ━━━━━━━━━━━━━━━━━━━━━━━━━━━━━━━━━━━━━━━━━━━━━━━━━━━━━━\u001b[0m\n"
      ]
     },
     "metadata": {},
     "output_type": "display_data"
    },
    {
     "name": "stderr",
     "output_type": "stream",
     "text": [
      "c:\\Users\\rober\\repos\\learning_agents\\venv\\Lib\\site-packages\\httpx\\_models.py:408: DeprecationWarning: Use 'content=<...>' to upload raw bytes/text content.\n",
      "  headers, stream = encode_request(\n",
      "c:\\Users\\rober\\repos\\learning_agents\\venv\\Lib\\site-packages\\smolagents\\models.py:393: FutureWarning: Attribute last_input_token_count is deprecated and will be removed in version 1.20. Please use TokenUsage.input_tokens instead.\n",
      "  warnings.warn(\n",
      "c:\\Users\\rober\\repos\\learning_agents\\venv\\Lib\\site-packages\\smolagents\\models.py:393: FutureWarning: Attribute last_input_token_count is deprecated and will be removed in version 1.20. Please use TokenUsage.input_tokens instead.\n",
      "  warnings.warn(\n",
      "c:\\Users\\rober\\repos\\learning_agents\\venv\\Lib\\site-packages\\smolagents\\models.py:402: FutureWarning: Attribute last_output_token_count is deprecated and will be removed in version 1.20. Please use TokenUsage.output_tokens instead.\n",
      "  warnings.warn(\n"
     ]
    },
    {
     "data": {
      "text/html": [
       "<pre style=\"white-space:pre;overflow-x:auto;line-height:normal;font-family:Menlo,'DejaVu Sans Mono',consolas,'Courier New',monospace\"> ─ <span style=\"font-weight: bold\">Executing parsed code:</span> ──────────────────────────────────────────────────────────────────────────────────────── \n",
       "  <span style=\"color: #f8f8f2; text-decoration-color: #f8f8f2; background-color: #272822\">area_info </span><span style=\"color: #ff4689; text-decoration-color: #ff4689; background-color: #272822\">=</span><span style=\"color: #f8f8f2; text-decoration-color: #f8f8f2; background-color: #272822\"> web_search(query</span><span style=\"color: #ff4689; text-decoration-color: #ff4689; background-color: #272822\">=</span><span style=\"color: #e6db74; text-decoration-color: #e6db74; background-color: #272822\">\"Paris area km2\"</span><span style=\"color: #f8f8f2; text-decoration-color: #f8f8f2; background-color: #272822\">)</span><span style=\"background-color: #272822\">                                                                 </span>  \n",
       "  <span style=\"color: #f8f8f2; text-decoration-color: #f8f8f2; background-color: #272822\">print(area_info)</span><span style=\"background-color: #272822\">                                                                                               </span>  \n",
       " ───────────────────────────────────────────────────────────────────────────────────────────────────────────────── \n",
       "</pre>\n"
      ],
      "text/plain": [
       " ─ \u001b[1mExecuting parsed code:\u001b[0m ──────────────────────────────────────────────────────────────────────────────────────── \n",
       "  \u001b[38;2;248;248;242;48;2;39;40;34marea_info\u001b[0m\u001b[38;2;248;248;242;48;2;39;40;34m \u001b[0m\u001b[38;2;255;70;137;48;2;39;40;34m=\u001b[0m\u001b[38;2;248;248;242;48;2;39;40;34m \u001b[0m\u001b[38;2;248;248;242;48;2;39;40;34mweb_search\u001b[0m\u001b[38;2;248;248;242;48;2;39;40;34m(\u001b[0m\u001b[38;2;248;248;242;48;2;39;40;34mquery\u001b[0m\u001b[38;2;255;70;137;48;2;39;40;34m=\u001b[0m\u001b[38;2;230;219;116;48;2;39;40;34m\"\u001b[0m\u001b[38;2;230;219;116;48;2;39;40;34mParis area km2\u001b[0m\u001b[38;2;230;219;116;48;2;39;40;34m\"\u001b[0m\u001b[38;2;248;248;242;48;2;39;40;34m)\u001b[0m\u001b[48;2;39;40;34m                                                                 \u001b[0m  \n",
       "  \u001b[38;2;248;248;242;48;2;39;40;34mprint\u001b[0m\u001b[38;2;248;248;242;48;2;39;40;34m(\u001b[0m\u001b[38;2;248;248;242;48;2;39;40;34marea_info\u001b[0m\u001b[38;2;248;248;242;48;2;39;40;34m)\u001b[0m\u001b[48;2;39;40;34m                                                                                               \u001b[0m  \n",
       " ───────────────────────────────────────────────────────────────────────────────────────────────────────────────── \n"
      ]
     },
     "metadata": {},
     "output_type": "display_data"
    },
    {
     "data": {
      "text/html": [
       "<pre style=\"white-space:pre;overflow-x:auto;line-height:normal;font-family:Menlo,'DejaVu Sans Mono',consolas,'Courier New',monospace\"><span style=\"font-weight: bold\">Execution logs:</span>\n",
       "## Search Results\n",
       "\n",
       "[Great restaurants in Paris: list of personal favs that people ... - \n",
       "Reddit](https://www.reddit.com/r/paris/comments/zktov3/great_restaurants_in_paris_list_of_personal_favs/)\n",
       "Dec 13, 2022 · Great restaurants in Paris: list of personal favs that people strongly recommend (compilation of \n",
       "places …\n",
       "\n",
       "[HonkaiStarRail - Reddit](https://www.reddit.com/r/HonkaiStarRail/)\n",
       "Honkai: Star Rail is an all-new strategy-RPG title in the Honkai series that takes players on a cosmic adventure \n",
       "across the stars. Hop …\n",
       "\n",
       "[Is the Paris Museum Pass worth it? : r/ParisTravelGuide - \n",
       "Reddit](https://www.reddit.com/r/ParisTravelGuide/comments/134uwkx/is_the_paris_museum_pass_worth_it/)\n",
       "May 1, 2023 · The Paris Museum Pass does not include transportation. The Paris Pass includes a zone 1-3 Paris \n",
       "Visite Pass, but …\n",
       "\n",
       "[Tips to avoid pickpocketers in Paris : r/ParisTravelGuide - \n",
       "Reddit](https://www.reddit.com/r/ParisTravelGuide/comments/1472ovd/tips_to_avoid_pickpocketers_in_paris/)\n",
       "Jun 11, 2023 · A community for Paris lovers or first-timers about traveling to the city, as a tourist or off the \n",
       "beaten path. Itinerary …\n",
       "\n",
       "[Reddit - Dive into anything](https://www.reddit.com/)\n",
       "Reddit is a network of communities where people can dive into their interests, hobbies and passions. There's a \n",
       "community for …\n",
       "\n",
       "Out: None\n",
       "</pre>\n"
      ],
      "text/plain": [
       "\u001b[1mExecution logs:\u001b[0m\n",
       "## Search Results\n",
       "\n",
       "[Great restaurants in Paris: list of personal favs that people ... - \n",
       "Reddit](https://www.reddit.com/r/paris/comments/zktov3/great_restaurants_in_paris_list_of_personal_favs/)\n",
       "Dec 13, 2022 · Great restaurants in Paris: list of personal favs that people strongly recommend (compilation of \n",
       "places …\n",
       "\n",
       "[HonkaiStarRail - Reddit](https://www.reddit.com/r/HonkaiStarRail/)\n",
       "Honkai: Star Rail is an all-new strategy-RPG title in the Honkai series that takes players on a cosmic adventure \n",
       "across the stars. Hop …\n",
       "\n",
       "[Is the Paris Museum Pass worth it? : r/ParisTravelGuide - \n",
       "Reddit](https://www.reddit.com/r/ParisTravelGuide/comments/134uwkx/is_the_paris_museum_pass_worth_it/)\n",
       "May 1, 2023 · The Paris Museum Pass does not include transportation. The Paris Pass includes a zone 1-3 Paris \n",
       "Visite Pass, but …\n",
       "\n",
       "[Tips to avoid pickpocketers in Paris : r/ParisTravelGuide - \n",
       "Reddit](https://www.reddit.com/r/ParisTravelGuide/comments/1472ovd/tips_to_avoid_pickpocketers_in_paris/)\n",
       "Jun 11, 2023 · A community for Paris lovers or first-timers about traveling to the city, as a tourist or off the \n",
       "beaten path. Itinerary …\n",
       "\n",
       "[Reddit - Dive into anything](https://www.reddit.com/)\n",
       "Reddit is a network of communities where people can dive into their interests, hobbies and passions. There's a \n",
       "community for …\n",
       "\n",
       "Out: None\n"
      ]
     },
     "metadata": {},
     "output_type": "display_data"
    },
    {
     "name": "stderr",
     "output_type": "stream",
     "text": [
      "c:\\Users\\rober\\repos\\learning_agents\\venv\\Lib\\site-packages\\smolagents\\models.py:393: FutureWarning: Attribute last_input_token_count is deprecated and will be removed in version 1.20. Please use TokenUsage.input_tokens instead.\n",
      "  warnings.warn(\n",
      "c:\\Users\\rober\\repos\\learning_agents\\venv\\Lib\\site-packages\\smolagents\\models.py:393: FutureWarning: Attribute last_input_token_count is deprecated and will be removed in version 1.20. Please use TokenUsage.input_tokens instead.\n",
      "  warnings.warn(\n",
      "c:\\Users\\rober\\repos\\learning_agents\\venv\\Lib\\site-packages\\smolagents\\models.py:402: FutureWarning: Attribute last_output_token_count is deprecated and will be removed in version 1.20. Please use TokenUsage.output_tokens instead.\n",
      "  warnings.warn(\n"
     ]
    },
    {
     "data": {
      "text/html": [
       "<pre style=\"white-space:pre;overflow-x:auto;line-height:normal;font-family:Menlo,'DejaVu Sans Mono',consolas,'Courier New',monospace\"><span style=\"color: #7f7f7f; text-decoration-color: #7f7f7f\">[Step 6: Duration 11.09 seconds| Input tokens: 20,576 | Output tokens: 286]</span>\n",
       "</pre>\n"
      ],
      "text/plain": [
       "\u001b[2m[Step 6: Duration 11.09 seconds| Input tokens: 20,576 | Output tokens: 286]\u001b[0m\n"
      ]
     },
     "metadata": {},
     "output_type": "display_data"
    },
    {
     "name": "stderr",
     "output_type": "stream",
     "text": [
      "c:\\Users\\rober\\repos\\learning_agents\\venv\\Lib\\site-packages\\smolagents\\models.py:393: FutureWarning: Attribute last_input_token_count is deprecated and will be removed in version 1.20. Please use TokenUsage.input_tokens instead.\n",
      "  warnings.warn(\n",
      "c:\\Users\\rober\\repos\\learning_agents\\venv\\Lib\\site-packages\\smolagents\\models.py:393: FutureWarning: Attribute last_input_token_count is deprecated and will be removed in version 1.20. Please use TokenUsage.input_tokens instead.\n",
      "  warnings.warn(\n",
      "c:\\Users\\rober\\repos\\learning_agents\\venv\\Lib\\site-packages\\smolagents\\models.py:402: FutureWarning: Attribute last_output_token_count is deprecated and will be removed in version 1.20. Please use TokenUsage.output_tokens instead.\n",
      "  warnings.warn(\n",
      "c:\\Users\\rober\\repos\\learning_agents\\venv\\Lib\\site-packages\\smolagents\\models.py:393: FutureWarning: Attribute last_input_token_count is deprecated and will be removed in version 1.20. Please use TokenUsage.input_tokens instead.\n",
      "  warnings.warn(\n",
      "c:\\Users\\rober\\repos\\learning_agents\\venv\\Lib\\site-packages\\smolagents\\models.py:402: FutureWarning: Attribute last_output_token_count is deprecated and will be removed in version 1.20. Please use TokenUsage.output_tokens instead.\n",
      "  warnings.warn(\n",
      "c:\\Users\\rober\\repos\\learning_agents\\venv\\Lib\\site-packages\\httpx\\_models.py:408: DeprecationWarning: Use 'content=<...>' to upload raw bytes/text content.\n",
      "  headers, stream = encode_request(\n"
     ]
    },
    {
     "data": {
      "text/html": [
       "<pre style=\"white-space:pre;overflow-x:auto;line-height:normal;font-family:Menlo,'DejaVu Sans Mono',consolas,'Courier New',monospace\"><span style=\"color: #800000; text-decoration-color: #800000; font-weight: bold\">Reached max steps.</span>\n",
       "</pre>\n"
      ],
      "text/plain": [
       "\u001b[1;31mReached max steps.\u001b[0m\n"
      ]
     },
     "metadata": {},
     "output_type": "display_data"
    },
    {
     "data": {
      "text/html": [
       "<pre style=\"white-space:pre;overflow-x:auto;line-height:normal;font-family:Menlo,'DejaVu Sans Mono',consolas,'Courier New',monospace\"><span style=\"color: #7f7f7f; text-decoration-color: #7f7f7f\">[Step 7: Duration 25.32 seconds| Input tokens: 23,795 | Output tokens: 497]</span>\n",
       "</pre>\n"
      ],
      "text/plain": [
       "\u001b[2m[Step 7: Duration 25.32 seconds| Input tokens: 23,795 | Output tokens: 497]\u001b[0m\n"
      ]
     },
     "metadata": {},
     "output_type": "display_data"
    },
    {
     "name": "stderr",
     "output_type": "stream",
     "text": [
      "c:\\Users\\rober\\repos\\learning_agents\\venv\\Lib\\site-packages\\smolagents\\models.py:393: FutureWarning: Attribute last_input_token_count is deprecated and will be removed in version 1.20. Please use TokenUsage.input_tokens instead.\n",
      "  warnings.warn(\n",
      "c:\\Users\\rober\\repos\\learning_agents\\venv\\Lib\\site-packages\\smolagents\\models.py:393: FutureWarning: Attribute last_input_token_count is deprecated and will be removed in version 1.20. Please use TokenUsage.input_tokens instead.\n",
      "  warnings.warn(\n",
      "c:\\Users\\rober\\repos\\learning_agents\\venv\\Lib\\site-packages\\smolagents\\models.py:402: FutureWarning: Attribute last_output_token_count is deprecated and will be removed in version 1.20. Please use TokenUsage.output_tokens instead.\n",
      "  warnings.warn(\n",
      "c:\\Users\\rober\\repos\\learning_agents\\venv\\Lib\\site-packages\\smolagents\\models.py:393: FutureWarning: Attribute last_input_token_count is deprecated and will be removed in version 1.20. Please use TokenUsage.input_tokens instead.\n",
      "  warnings.warn(\n",
      "c:\\Users\\rober\\repos\\learning_agents\\venv\\Lib\\site-packages\\smolagents\\models.py:402: FutureWarning: Attribute last_output_token_count is deprecated and will be removed in version 1.20. Please use TokenUsage.output_tokens instead.\n",
      "  warnings.warn(\n",
      "c:\\Users\\rober\\repos\\learning_agents\\venv\\Lib\\site-packages\\smolagents\\models.py:393: FutureWarning: Attribute last_input_token_count is deprecated and will be removed in version 1.20. Please use TokenUsage.input_tokens instead.\n",
      "  warnings.warn(\n",
      "c:\\Users\\rober\\repos\\learning_agents\\venv\\Lib\\site-packages\\smolagents\\models.py:393: FutureWarning: Attribute last_input_token_count is deprecated and will be removed in version 1.20. Please use TokenUsage.input_tokens instead.\n",
      "  warnings.warn(\n",
      "c:\\Users\\rober\\repos\\learning_agents\\venv\\Lib\\site-packages\\smolagents\\models.py:402: FutureWarning: Attribute last_output_token_count is deprecated and will be removed in version 1.20. Please use TokenUsage.output_tokens instead.\n",
      "  warnings.warn(\n"
     ]
    },
    {
     "name": "stdout",
     "output_type": "stream",
     "text": [
      "Keyboard interruption in main thread... closing server.\n",
      "Killing tunnel 127.0.0.1:7860 <> https://b9f3c57e1f38de3ede.gradio.live\n"
     ]
    },
    {
     "name": "stderr",
     "output_type": "stream",
     "text": [
      "C:\\Users\\rober\\AppData\\Local\\Programs\\Python\\Python313\\Lib\\subprocess.py:1140: ResourceWarning: subprocess 2248 is still running\n",
      "  _warn(\"subprocess %s is still running\" % self.pid,\n",
      "ResourceWarning: Enable tracemalloc to get the object allocation traceback\n",
      "c:\\Users\\rober\\repos\\learning_agents\\venv\\Lib\\site-packages\\gradio\\tunneling.py:121: ResourceWarning: unclosed file <_io.BufferedReader name=3>\n",
      "  self.proc = None\n",
      "ResourceWarning: Enable tracemalloc to get the object allocation traceback\n",
      "c:\\Users\\rober\\repos\\learning_agents\\venv\\Lib\\site-packages\\gradio\\tunneling.py:121: ResourceWarning: unclosed file <_io.BufferedReader name=4>\n",
      "  self.proc = None\n",
      "ResourceWarning: Enable tracemalloc to get the object allocation traceback\n"
     ]
    }
   ],
   "source": [
    "GradioUI(agent).launch()"
   ]
  },
  {
   "cell_type": "code",
   "execution_count": null,
   "id": "333f7735",
   "metadata": {},
   "outputs": [],
   "source": []
  }
 ],
 "metadata": {
  "kernelspec": {
   "display_name": "venv",
   "language": "python",
   "name": "python3"
  },
  "language_info": {
   "codemirror_mode": {
    "name": "ipython",
    "version": 3
   },
   "file_extension": ".py",
   "mimetype": "text/x-python",
   "name": "python",
   "nbconvert_exporter": "python",
   "pygments_lexer": "ipython3",
   "version": "3.13.5"
  }
 },
 "nbformat": 4,
 "nbformat_minor": 5
}
