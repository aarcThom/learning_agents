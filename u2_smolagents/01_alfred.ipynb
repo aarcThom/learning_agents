{
 "cells": [
  {
   "cell_type": "code",
   "execution_count": 1,
   "id": "dfe34d36",
   "metadata": {},
   "outputs": [
    {
     "name": "stderr",
     "output_type": "stream",
     "text": [
      "c:\\Users\\rober\\repos\\learning_agents\\venv\\Lib\\site-packages\\tqdm\\auto.py:21: TqdmWarning: IProgress not found. Please update jupyter and ipywidgets. See https://ipywidgets.readthedocs.io/en/stable/user_install.html\n",
      "  from .autonotebook import tqdm as notebook_tqdm\n"
     ]
    }
   ],
   "source": [
    "from smolagents import CodeAgent, DuckDuckGoSearchTool, LiteLLMModel\n"
   ]
  },
  {
   "cell_type": "code",
   "execution_count": 13,
   "id": "9deedd92",
   "metadata": {},
   "outputs": [
    {
     "name": "stderr",
     "output_type": "stream",
     "text": [
      "c:\\Users\\rober\\repos\\learning_agents\\venv\\Lib\\site-packages\\smolagents\\default_tools.py:135: RuntimeWarning: This package (`duckduckgo_search`) has been renamed to `ddgs`! Use `pip install ddgs` instead.\n",
      "  self.ddgs = DDGS(**kwargs)\n"
     ]
    }
   ],
   "source": [
    "# define the tools\n",
    "web_search = DuckDuckGoSearchTool()\n",
    "\n",
    "# define the LLM\n",
    "model = LiteLLMModel(\n",
    "    model_id=\"ollama_chat/qwen3-coder\",\n",
    "    api_base=\"http://127.0.0.1:11434\",  # Default Ollama local server\n",
    "    num_ctx=8192\n",
    ")\n",
    "\n",
    "# create an agent\n",
    "agent = CodeAgent(\n",
    "    tools=[web_search],\n",
    "    model=model\n",
    ")"
   ]
  },
  {
   "cell_type": "code",
   "execution_count": 14,
   "id": "546352ae",
   "metadata": {},
   "outputs": [
    {
     "data": {
      "text/html": [
       "<pre style=\"white-space:pre;overflow-x:auto;line-height:normal;font-family:Menlo,'DejaVu Sans Mono',consolas,'Courier New',monospace\"><span style=\"color: #d4b702; text-decoration-color: #d4b702\">╭──────────────────────────────────────────────────── </span><span style=\"color: #d4b702; text-decoration-color: #d4b702; font-weight: bold\">New run</span><span style=\"color: #d4b702; text-decoration-color: #d4b702\"> ────────────────────────────────────────────────────╮</span>\n",
       "<span style=\"color: #d4b702; text-decoration-color: #d4b702\">│</span>                                                                                                                 <span style=\"color: #d4b702; text-decoration-color: #d4b702\">│</span>\n",
       "<span style=\"color: #d4b702; text-decoration-color: #d4b702\">│</span> <span style=\"font-weight: bold\">Search for the best music recommendations for a party at Peter Parker's house.</span>                                  <span style=\"color: #d4b702; text-decoration-color: #d4b702\">│</span>\n",
       "<span style=\"color: #d4b702; text-decoration-color: #d4b702\">│</span>                                                                                                                 <span style=\"color: #d4b702; text-decoration-color: #d4b702\">│</span>\n",
       "<span style=\"color: #d4b702; text-decoration-color: #d4b702\">╰─ LiteLLMModel - ollama_chat/qwen3-coder ────────────────────────────────────────────────────────────────────────╯</span>\n",
       "</pre>\n"
      ],
      "text/plain": [
       "\u001b[38;2;212;183;2m╭─\u001b[0m\u001b[38;2;212;183;2m───────────────────────────────────────────────────\u001b[0m\u001b[38;2;212;183;2m \u001b[0m\u001b[1;38;2;212;183;2mNew run\u001b[0m\u001b[38;2;212;183;2m \u001b[0m\u001b[38;2;212;183;2m───────────────────────────────────────────────────\u001b[0m\u001b[38;2;212;183;2m─╮\u001b[0m\n",
       "\u001b[38;2;212;183;2m│\u001b[0m                                                                                                                 \u001b[38;2;212;183;2m│\u001b[0m\n",
       "\u001b[38;2;212;183;2m│\u001b[0m \u001b[1mSearch for the best music recommendations for a party at Peter Parker's house.\u001b[0m                                  \u001b[38;2;212;183;2m│\u001b[0m\n",
       "\u001b[38;2;212;183;2m│\u001b[0m                                                                                                                 \u001b[38;2;212;183;2m│\u001b[0m\n",
       "\u001b[38;2;212;183;2m╰─\u001b[0m\u001b[38;2;212;183;2m LiteLLMModel - ollama_chat/qwen3-coder \u001b[0m\u001b[38;2;212;183;2m───────────────────────────────────────────────────────────────────────\u001b[0m\u001b[38;2;212;183;2m─╯\u001b[0m\n"
      ]
     },
     "metadata": {},
     "output_type": "display_data"
    },
    {
     "data": {
      "text/html": [
       "<pre style=\"white-space:pre;overflow-x:auto;line-height:normal;font-family:Menlo,'DejaVu Sans Mono',consolas,'Courier New',monospace\"><span style=\"color: #d4b702; text-decoration-color: #d4b702\">━━━━━━━━━━━━━━━━━━━━━━━━━━━━━━━━━━━━━━━━━━━━━━━━━━━━━ </span><span style=\"font-weight: bold\">Step </span><span style=\"color: #008080; text-decoration-color: #008080; font-weight: bold\">1</span><span style=\"color: #d4b702; text-decoration-color: #d4b702\"> ━━━━━━━━━━━━━━━━━━━━━━━━━━━━━━━━━━━━━━━━━━━━━━━━━━━━━━</span>\n",
       "</pre>\n"
      ],
      "text/plain": [
       "\u001b[38;2;212;183;2m━━━━━━━━━━━━━━━━━━━━━━━━━━━━━━━━━━━━━━━━━━━━━━━━━━━━━ \u001b[0m\u001b[1mStep \u001b[0m\u001b[1;36m1\u001b[0m\u001b[38;2;212;183;2m ━━━━━━━━━━━━━━━━━━━━━━━━━━━━━━━━━━━━━━━━━━━━━━━━━━━━━━\u001b[0m\n"
      ]
     },
     "metadata": {},
     "output_type": "display_data"
    },
    {
     "name": "stderr",
     "output_type": "stream",
     "text": [
      "c:\\Users\\rober\\repos\\learning_agents\\venv\\Lib\\site-packages\\httpx\\_models.py:408: DeprecationWarning: Use 'content=<...>' to upload raw bytes/text content.\n",
      "  headers, stream = encode_request(\n"
     ]
    },
    {
     "data": {
      "text/html": [
       "<pre style=\"white-space:pre;overflow-x:auto;line-height:normal;font-family:Menlo,'DejaVu Sans Mono',consolas,'Courier New',monospace\"> ─ <span style=\"font-weight: bold\">Executing parsed code:</span> ──────────────────────────────────────────────────────────────────────────────────────── \n",
       "  <span style=\"color: #f8f8f2; text-decoration-color: #f8f8f2; background-color: #272822\">party_music </span><span style=\"color: #ff4689; text-decoration-color: #ff4689; background-color: #272822\">=</span><span style=\"color: #f8f8f2; text-decoration-color: #f8f8f2; background-color: #272822\"> web_search(query</span><span style=\"color: #ff4689; text-decoration-color: #ff4689; background-color: #272822\">=</span><span style=\"color: #e6db74; text-decoration-color: #e6db74; background-color: #272822\">\"best party music recommendations\"</span><span style=\"color: #f8f8f2; text-decoration-color: #f8f8f2; background-color: #272822\">)</span><span style=\"background-color: #272822\">                                             </span>  \n",
       "  <span style=\"color: #f8f8f2; text-decoration-color: #f8f8f2; background-color: #272822\">print(party_music)</span><span style=\"background-color: #272822\">                                                                                             </span>  \n",
       " ───────────────────────────────────────────────────────────────────────────────────────────────────────────────── \n",
       "</pre>\n"
      ],
      "text/plain": [
       " ─ \u001b[1mExecuting parsed code:\u001b[0m ──────────────────────────────────────────────────────────────────────────────────────── \n",
       "  \u001b[38;2;248;248;242;48;2;39;40;34mparty_music\u001b[0m\u001b[38;2;248;248;242;48;2;39;40;34m \u001b[0m\u001b[38;2;255;70;137;48;2;39;40;34m=\u001b[0m\u001b[38;2;248;248;242;48;2;39;40;34m \u001b[0m\u001b[38;2;248;248;242;48;2;39;40;34mweb_search\u001b[0m\u001b[38;2;248;248;242;48;2;39;40;34m(\u001b[0m\u001b[38;2;248;248;242;48;2;39;40;34mquery\u001b[0m\u001b[38;2;255;70;137;48;2;39;40;34m=\u001b[0m\u001b[38;2;230;219;116;48;2;39;40;34m\"\u001b[0m\u001b[38;2;230;219;116;48;2;39;40;34mbest party music recommendations\u001b[0m\u001b[38;2;230;219;116;48;2;39;40;34m\"\u001b[0m\u001b[38;2;248;248;242;48;2;39;40;34m)\u001b[0m\u001b[48;2;39;40;34m                                             \u001b[0m  \n",
       "  \u001b[38;2;248;248;242;48;2;39;40;34mprint\u001b[0m\u001b[38;2;248;248;242;48;2;39;40;34m(\u001b[0m\u001b[38;2;248;248;242;48;2;39;40;34mparty_music\u001b[0m\u001b[38;2;248;248;242;48;2;39;40;34m)\u001b[0m\u001b[48;2;39;40;34m                                                                                             \u001b[0m  \n",
       " ───────────────────────────────────────────────────────────────────────────────────────────────────────────────── \n"
      ]
     },
     "metadata": {},
     "output_type": "display_data"
    },
    {
     "data": {
      "text/html": [
       "<pre style=\"white-space:pre;overflow-x:auto;line-height:normal;font-family:Menlo,'DejaVu Sans Mono',consolas,'Courier New',monospace\"><span style=\"font-weight: bold\">Execution logs:</span>\n",
       "## Search Results\n",
       "\n",
       "[The 75 Best Party Songs That Will Get Everyone Dancing - \n",
       "Gear4mu…](https://www.gear4music.com/blog/best-party-songs/)\n",
       "May 9, 2024 · So, to keep things simple, we’ve compiled the best party songs of all time, from timeless classics to\n",
       "…\n",
       "\n",
       "[40 Best Party Songs | Songs To Dance To, Ranked By Our Editors …](https://www.timeout.com/music/best-party-songs)\n",
       "Looking for dance songs? We’ve got you covered. From Britney Spears to Diana Ross, Charli XCX to Peggy Gou, here \n",
       "are …\n",
       "\n",
       "[Top 200 Most Requested Songs - DJ Event Planner](https://djeventplanner.com/mostrequested.htm)\n",
       "Based on over 2 million requests using the DJ Event Planner song request system, this is a list of the most \n",
       "requested songs of …\n",
       "\n",
       "[Best Party Songs That Always Get People Dancing 2025](https://yourmusicdepot.com/party-songs/)\n",
       "Dec 24, 2024 · To help you plan your next party, we’ve put together a list of the best party songs to get people \n",
       "dancing. We …\n",
       "\n",
       "[Best Songs To Party: DJ’s Ultimate Party Songs Playlist](https://top40weekly.com/best-songs-to-party/)\n",
       "From classic hits to modern bangers, we’ve compiled a list of the best songs to get your guests dancing and singing\n",
       "along all …\n",
       "\n",
       "[windows 下哪个 terminal 最好用？ - 知乎](https://www.zhihu.com/question/640370911/answers/updated)\n",
       "要我推的话Windows端就vs code里面的terminal和Windows terminal了，这是两都是微软为数不多的超级良心软件。Windows …\n",
       "\n",
       "[2025年 8月 显卡天梯图（更新RTX 5050/RX 9060XT）](https://www.zhihu.com/tardis/zm/art/294283384)\n",
       "Jul 31, 2025 · 1080P/2K/4K分辨率，以最新发布的RTX 5050为基准（25款主流游戏测试成绩取平均值） 数据来源 …\n",
       "\n",
       "[Best wishes 和 Best regards 有什么区别? - 百度知道](https://zhidao.baidu.com/question/506442326.html)\n",
       "Best wishes 和 Best regards 有什么区别?首先我们来看下Best wishes和Best regards的大致意思：Best \n",
       "wishes：词性为短语，用于 …\n",
       "\n",
       "[如何看待AAAI 2025的录用结果？ - 知乎](https://www.zhihu.com/question/5972430556?write)\n",
       "现在整体上来说AAAI这类会议的不确定性和混乱程度是比较大的，投稿中运气占了挺大的成分。今年组里投了3篇AAAI，跟朋友合作\n",
       "1 …\n",
       "\n",
       "[2025年 8月 CPU天梯图（更新锐龙9 9950X3D） - 知乎](https://www.zhihu.com/tardis/bd/art/280070583)\n",
       "Jul 31, 2025 · \n",
       "桌面端CPU综合性能天梯图，提供最新的CPU性能排名和对比信息，帮助用户了解不同型号的表现和选择适合自己的产 …\n",
       "\n",
       "Out: None\n",
       "</pre>\n"
      ],
      "text/plain": [
       "\u001b[1mExecution logs:\u001b[0m\n",
       "## Search Results\n",
       "\n",
       "[The 75 Best Party Songs That Will Get Everyone Dancing - \n",
       "Gear4mu…](https://www.gear4music.com/blog/best-party-songs/)\n",
       "May 9, 2024 · So, to keep things simple, we’ve compiled the best party songs of all time, from timeless classics to\n",
       "…\n",
       "\n",
       "[40 Best Party Songs | Songs To Dance To, Ranked By Our Editors …](https://www.timeout.com/music/best-party-songs)\n",
       "Looking for dance songs? We’ve got you covered. From Britney Spears to Diana Ross, Charli XCX to Peggy Gou, here \n",
       "are …\n",
       "\n",
       "[Top 200 Most Requested Songs - DJ Event Planner](https://djeventplanner.com/mostrequested.htm)\n",
       "Based on over 2 million requests using the DJ Event Planner song request system, this is a list of the most \n",
       "requested songs of …\n",
       "\n",
       "[Best Party Songs That Always Get People Dancing 2025](https://yourmusicdepot.com/party-songs/)\n",
       "Dec 24, 2024 · To help you plan your next party, we’ve put together a list of the best party songs to get people \n",
       "dancing. We …\n",
       "\n",
       "[Best Songs To Party: DJ’s Ultimate Party Songs Playlist](https://top40weekly.com/best-songs-to-party/)\n",
       "From classic hits to modern bangers, we’ve compiled a list of the best songs to get your guests dancing and singing\n",
       "along all …\n",
       "\n",
       "[windows 下哪个 terminal 最好用？ - 知乎](https://www.zhihu.com/question/640370911/answers/updated)\n",
       "要我推的话Windows端就vs code里面的terminal和Windows terminal了，这是两都是微软为数不多的超级良心软件。Windows …\n",
       "\n",
       "[2025年 8月 显卡天梯图（更新RTX 5050/RX 9060XT）](https://www.zhihu.com/tardis/zm/art/294283384)\n",
       "Jul 31, 2025 · 1080P/2K/4K分辨率，以最新发布的RTX 5050为基准（25款主流游戏测试成绩取平均值） 数据来源 …\n",
       "\n",
       "[Best wishes 和 Best regards 有什么区别? - 百度知道](https://zhidao.baidu.com/question/506442326.html)\n",
       "Best wishes 和 Best regards 有什么区别?首先我们来看下Best wishes和Best regards的大致意思：Best \n",
       "wishes：词性为短语，用于 …\n",
       "\n",
       "[如何看待AAAI 2025的录用结果？ - 知乎](https://www.zhihu.com/question/5972430556?write)\n",
       "现在整体上来说AAAI这类会议的不确定性和混乱程度是比较大的，投稿中运气占了挺大的成分。今年组里投了3篇AAAI，跟朋友合作\n",
       "1 …\n",
       "\n",
       "[2025年 8月 CPU天梯图（更新锐龙9 9950X3D） - 知乎](https://www.zhihu.com/tardis/bd/art/280070583)\n",
       "Jul 31, 2025 · \n",
       "桌面端CPU综合性能天梯图，提供最新的CPU性能排名和对比信息，帮助用户了解不同型号的表现和选择适合自己的产 …\n",
       "\n",
       "Out: None\n"
      ]
     },
     "metadata": {},
     "output_type": "display_data"
    },
    {
     "data": {
      "text/html": [
       "<pre style=\"white-space:pre;overflow-x:auto;line-height:normal;font-family:Menlo,'DejaVu Sans Mono',consolas,'Courier New',monospace\"><span style=\"color: #7f7f7f; text-decoration-color: #7f7f7f\">[Step 1: Duration 24.39 seconds| Input tokens: 2,002 | Output tokens: 104]</span>\n",
       "</pre>\n"
      ],
      "text/plain": [
       "\u001b[2m[Step 1: Duration 24.39 seconds| Input tokens: 2,002 | Output tokens: 104]\u001b[0m\n"
      ]
     },
     "metadata": {},
     "output_type": "display_data"
    },
    {
     "data": {
      "text/html": [
       "<pre style=\"white-space:pre;overflow-x:auto;line-height:normal;font-family:Menlo,'DejaVu Sans Mono',consolas,'Courier New',monospace\"><span style=\"color: #d4b702; text-decoration-color: #d4b702\">━━━━━━━━━━━━━━━━━━━━━━━━━━━━━━━━━━━━━━━━━━━━━━━━━━━━━ </span><span style=\"font-weight: bold\">Step </span><span style=\"color: #008080; text-decoration-color: #008080; font-weight: bold\">2</span><span style=\"color: #d4b702; text-decoration-color: #d4b702\"> ━━━━━━━━━━━━━━━━━━━━━━━━━━━━━━━━━━━━━━━━━━━━━━━━━━━━━━</span>\n",
       "</pre>\n"
      ],
      "text/plain": [
       "\u001b[38;2;212;183;2m━━━━━━━━━━━━━━━━━━━━━━━━━━━━━━━━━━━━━━━━━━━━━━━━━━━━━ \u001b[0m\u001b[1mStep \u001b[0m\u001b[1;36m2\u001b[0m\u001b[38;2;212;183;2m ━━━━━━━━━━━━━━━━━━━━━━━━━━━━━━━━━━━━━━━━━━━━━━━━━━━━━━\u001b[0m\n"
      ]
     },
     "metadata": {},
     "output_type": "display_data"
    },
    {
     "name": "stderr",
     "output_type": "stream",
     "text": [
      "c:\\Users\\rober\\repos\\learning_agents\\venv\\Lib\\site-packages\\httpx\\_models.py:408: DeprecationWarning: Use 'content=<...>' to upload raw bytes/text content.\n",
      "  headers, stream = encode_request(\n"
     ]
    },
    {
     "data": {
      "text/html": [
       "<pre style=\"white-space:pre;overflow-x:auto;line-height:normal;font-family:Menlo,'DejaVu Sans Mono',consolas,'Courier New',monospace\"> ─ <span style=\"font-weight: bold\">Executing parsed code:</span> ──────────────────────────────────────────────────────────────────────────────────────── \n",
       "  <span style=\"color: #f8f8f2; text-decoration-color: #f8f8f2; background-color: #272822\">spiderman_party_music </span><span style=\"color: #ff4689; text-decoration-color: #ff4689; background-color: #272822\">=</span><span style=\"color: #f8f8f2; text-decoration-color: #f8f8f2; background-color: #272822\"> web_search(query</span><span style=\"color: #ff4689; text-decoration-color: #ff4689; background-color: #272822\">=</span><span style=\"color: #e6db74; text-decoration-color: #e6db74; background-color: #272822\">\"Spider-Man party music theme songs\"</span><span style=\"color: #f8f8f2; text-decoration-color: #f8f8f2; background-color: #272822\">)</span><span style=\"background-color: #272822\">                                 </span>  \n",
       "  <span style=\"color: #f8f8f2; text-decoration-color: #f8f8f2; background-color: #272822\">print(spiderman_party_music)</span><span style=\"background-color: #272822\">                                                                                   </span>  \n",
       " ───────────────────────────────────────────────────────────────────────────────────────────────────────────────── \n",
       "</pre>\n"
      ],
      "text/plain": [
       " ─ \u001b[1mExecuting parsed code:\u001b[0m ──────────────────────────────────────────────────────────────────────────────────────── \n",
       "  \u001b[38;2;248;248;242;48;2;39;40;34mspiderman_party_music\u001b[0m\u001b[38;2;248;248;242;48;2;39;40;34m \u001b[0m\u001b[38;2;255;70;137;48;2;39;40;34m=\u001b[0m\u001b[38;2;248;248;242;48;2;39;40;34m \u001b[0m\u001b[38;2;248;248;242;48;2;39;40;34mweb_search\u001b[0m\u001b[38;2;248;248;242;48;2;39;40;34m(\u001b[0m\u001b[38;2;248;248;242;48;2;39;40;34mquery\u001b[0m\u001b[38;2;255;70;137;48;2;39;40;34m=\u001b[0m\u001b[38;2;230;219;116;48;2;39;40;34m\"\u001b[0m\u001b[38;2;230;219;116;48;2;39;40;34mSpider-Man party music theme songs\u001b[0m\u001b[38;2;230;219;116;48;2;39;40;34m\"\u001b[0m\u001b[38;2;248;248;242;48;2;39;40;34m)\u001b[0m\u001b[48;2;39;40;34m                                 \u001b[0m  \n",
       "  \u001b[38;2;248;248;242;48;2;39;40;34mprint\u001b[0m\u001b[38;2;248;248;242;48;2;39;40;34m(\u001b[0m\u001b[38;2;248;248;242;48;2;39;40;34mspiderman_party_music\u001b[0m\u001b[38;2;248;248;242;48;2;39;40;34m)\u001b[0m\u001b[48;2;39;40;34m                                                                                   \u001b[0m  \n",
       " ───────────────────────────────────────────────────────────────────────────────────────────────────────────────── \n"
      ]
     },
     "metadata": {},
     "output_type": "display_data"
    },
    {
     "data": {
      "text/html": [
       "<pre style=\"white-space:pre;overflow-x:auto;line-height:normal;font-family:Menlo,'DejaVu Sans Mono',consolas,'Courier New',monospace\"><span style=\"font-weight: bold\">Execution logs:</span>\n",
       "## Search Results\n",
       "\n",
       "[win10系统的系统自带游戏去哪儿了 - 百度经验](https://jingyan.baidu.com/article/bea41d43a4b310b4c51be6b4.html)\n",
       "我相信很多人都玩过以前win7，win8以及xp系统里的小游戏，比如蜘蛛纸牌。那么电脑更新至win10后那些游戏都去哪儿了呢？\n",
       "\n",
       "[MySQL存储引擎之Spider内核深度解析 - 知乎](https://www.zhihu.com/column/p/27756211)\n",
       "图5. 执行XA事务，Spider与两个 后端节点 的交互 从图5可以看到Spider向后端节点发送XA START命令时会设置会话级别的事务特\n",
       "…\n",
       "\n",
       "[win10自带的纸牌游戏在哪 怎么样添加蜘蛛纸牌 - \n",
       "百度经验](https://jingyan.baidu.com/article/ff42efa9cc1eefc19e22022d.html)\n",
       "Mar 6, 2018 · 在使用XP系统时候，非常经典的蜘蛛纸牌在Windows10系统中没有找到，是Windows10已不再自带纸牌游戏了吗？其 \n",
       "…\n",
       "\n",
       "[如何评价电影《蜘蛛侠：英雄无归》（Spider-Man: No Way Home）…](https://www.zhihu.com/question/499757064)\n",
       "除了情怀以外这片子剧情也确实漏洞很多。我就想不明白为啥彼得一定要施法让全世界忘了自己是蜘蛛侠。 \n",
       "既然你的真实身份是神秘 …\n",
       "\n",
       "[vscode如何像spyder的variable explorer一样查看变量的值？ - 知乎](https://www.zhihu.com/question/355497136)\n",
       "Nov 12, 2019 · VS Code 中使用data wrangler进行数据查看，前提条件是使用 jupyter 运行代码。 Spyder 中双击打开变 …\n",
       "\n",
       "Out: None\n",
       "</pre>\n"
      ],
      "text/plain": [
       "\u001b[1mExecution logs:\u001b[0m\n",
       "## Search Results\n",
       "\n",
       "[win10系统的系统自带游戏去哪儿了 - 百度经验](https://jingyan.baidu.com/article/bea41d43a4b310b4c51be6b4.html)\n",
       "我相信很多人都玩过以前win7，win8以及xp系统里的小游戏，比如蜘蛛纸牌。那么电脑更新至win10后那些游戏都去哪儿了呢？\n",
       "\n",
       "[MySQL存储引擎之Spider内核深度解析 - 知乎](https://www.zhihu.com/column/p/27756211)\n",
       "图5. 执行XA事务，Spider与两个 后端节点 的交互 从图5可以看到Spider向后端节点发送XA START命令时会设置会话级别的事务特\n",
       "…\n",
       "\n",
       "[win10自带的纸牌游戏在哪 怎么样添加蜘蛛纸牌 - \n",
       "百度经验](https://jingyan.baidu.com/article/ff42efa9cc1eefc19e22022d.html)\n",
       "Mar 6, 2018 · 在使用XP系统时候，非常经典的蜘蛛纸牌在Windows10系统中没有找到，是Windows10已不再自带纸牌游戏了吗？其 \n",
       "…\n",
       "\n",
       "[如何评价电影《蜘蛛侠：英雄无归》（Spider-Man: No Way Home）…](https://www.zhihu.com/question/499757064)\n",
       "除了情怀以外这片子剧情也确实漏洞很多。我就想不明白为啥彼得一定要施法让全世界忘了自己是蜘蛛侠。 \n",
       "既然你的真实身份是神秘 …\n",
       "\n",
       "[vscode如何像spyder的variable explorer一样查看变量的值？ - 知乎](https://www.zhihu.com/question/355497136)\n",
       "Nov 12, 2019 · VS Code 中使用data wrangler进行数据查看，前提条件是使用 jupyter 运行代码。 Spyder 中双击打开变 …\n",
       "\n",
       "Out: None\n"
      ]
     },
     "metadata": {},
     "output_type": "display_data"
    },
    {
     "data": {
      "text/html": [
       "<pre style=\"white-space:pre;overflow-x:auto;line-height:normal;font-family:Menlo,'DejaVu Sans Mono',consolas,'Courier New',monospace\"><span style=\"color: #7f7f7f; text-decoration-color: #7f7f7f\">[Step 2: Duration 14.60 seconds| Input tokens: 4,916 | Output tokens: 185]</span>\n",
       "</pre>\n"
      ],
      "text/plain": [
       "\u001b[2m[Step 2: Duration 14.60 seconds| Input tokens: 4,916 | Output tokens: 185]\u001b[0m\n"
      ]
     },
     "metadata": {},
     "output_type": "display_data"
    },
    {
     "data": {
      "text/html": [
       "<pre style=\"white-space:pre;overflow-x:auto;line-height:normal;font-family:Menlo,'DejaVu Sans Mono',consolas,'Courier New',monospace\"><span style=\"color: #d4b702; text-decoration-color: #d4b702\">━━━━━━━━━━━━━━━━━━━━━━━━━━━━━━━━━━━━━━━━━━━━━━━━━━━━━ </span><span style=\"font-weight: bold\">Step </span><span style=\"color: #008080; text-decoration-color: #008080; font-weight: bold\">3</span><span style=\"color: #d4b702; text-decoration-color: #d4b702\"> ━━━━━━━━━━━━━━━━━━━━━━━━━━━━━━━━━━━━━━━━━━━━━━━━━━━━━━</span>\n",
       "</pre>\n"
      ],
      "text/plain": [
       "\u001b[38;2;212;183;2m━━━━━━━━━━━━━━━━━━━━━━━━━━━━━━━━━━━━━━━━━━━━━━━━━━━━━ \u001b[0m\u001b[1mStep \u001b[0m\u001b[1;36m3\u001b[0m\u001b[38;2;212;183;2m ━━━━━━━━━━━━━━━━━━━━━━━━━━━━━━━━━━━━━━━━━━━━━━━━━━━━━━\u001b[0m\n"
      ]
     },
     "metadata": {},
     "output_type": "display_data"
    },
    {
     "name": "stderr",
     "output_type": "stream",
     "text": [
      "c:\\Users\\rober\\repos\\learning_agents\\venv\\Lib\\site-packages\\httpx\\_models.py:408: DeprecationWarning: Use 'content=<...>' to upload raw bytes/text content.\n",
      "  headers, stream = encode_request(\n"
     ]
    },
    {
     "data": {
      "text/html": [
       "<pre style=\"white-space:pre;overflow-x:auto;line-height:normal;font-family:Menlo,'DejaVu Sans Mono',consolas,'Courier New',monospace\"> ─ <span style=\"font-weight: bold\">Executing parsed code:</span> ──────────────────────────────────────────────────────────────────────────────────────── \n",
       "  <span style=\"color: #f8f8f2; text-decoration-color: #f8f8f2; background-color: #272822\">popular_party_genres </span><span style=\"color: #ff4689; text-decoration-color: #ff4689; background-color: #272822\">=</span><span style=\"color: #f8f8f2; text-decoration-color: #f8f8f2; background-color: #272822\"> web_search(query</span><span style=\"color: #ff4689; text-decoration-color: #ff4689; background-color: #272822\">=</span><span style=\"color: #e6db74; text-decoration-color: #e6db74; background-color: #272822\">\"popular party music genres dance songs\"</span><span style=\"color: #f8f8f2; text-decoration-color: #f8f8f2; background-color: #272822\">)</span><span style=\"background-color: #272822\">                              </span>  \n",
       "  <span style=\"color: #f8f8f2; text-decoration-color: #f8f8f2; background-color: #272822\">print(popular_party_genres)</span><span style=\"background-color: #272822\">                                                                                    </span>  \n",
       "  <span style=\"color: #ff4689; text-decoration-color: #ff4689; background-color: #272822\">&lt;/</span><span style=\"color: #f8f8f2; text-decoration-color: #f8f8f2; background-color: #272822\">code]</span><span style=\"background-color: #272822\">                                                                                                        </span>  \n",
       " ───────────────────────────────────────────────────────────────────────────────────────────────────────────────── \n",
       "</pre>\n"
      ],
      "text/plain": [
       " ─ \u001b[1mExecuting parsed code:\u001b[0m ──────────────────────────────────────────────────────────────────────────────────────── \n",
       "  \u001b[38;2;248;248;242;48;2;39;40;34mpopular_party_genres\u001b[0m\u001b[38;2;248;248;242;48;2;39;40;34m \u001b[0m\u001b[38;2;255;70;137;48;2;39;40;34m=\u001b[0m\u001b[38;2;248;248;242;48;2;39;40;34m \u001b[0m\u001b[38;2;248;248;242;48;2;39;40;34mweb_search\u001b[0m\u001b[38;2;248;248;242;48;2;39;40;34m(\u001b[0m\u001b[38;2;248;248;242;48;2;39;40;34mquery\u001b[0m\u001b[38;2;255;70;137;48;2;39;40;34m=\u001b[0m\u001b[38;2;230;219;116;48;2;39;40;34m\"\u001b[0m\u001b[38;2;230;219;116;48;2;39;40;34mpopular party music genres dance songs\u001b[0m\u001b[38;2;230;219;116;48;2;39;40;34m\"\u001b[0m\u001b[38;2;248;248;242;48;2;39;40;34m)\u001b[0m\u001b[48;2;39;40;34m                              \u001b[0m  \n",
       "  \u001b[38;2;248;248;242;48;2;39;40;34mprint\u001b[0m\u001b[38;2;248;248;242;48;2;39;40;34m(\u001b[0m\u001b[38;2;248;248;242;48;2;39;40;34mpopular_party_genres\u001b[0m\u001b[38;2;248;248;242;48;2;39;40;34m)\u001b[0m\u001b[48;2;39;40;34m                                                                                    \u001b[0m  \n",
       "  \u001b[38;2;255;70;137;48;2;39;40;34m<\u001b[0m\u001b[38;2;255;70;137;48;2;39;40;34m/\u001b[0m\u001b[38;2;248;248;242;48;2;39;40;34mcode\u001b[0m\u001b[38;2;248;248;242;48;2;39;40;34m]\u001b[0m\u001b[48;2;39;40;34m                                                                                                        \u001b[0m  \n",
       " ───────────────────────────────────────────────────────────────────────────────────────────────────────────────── \n"
      ]
     },
     "metadata": {},
     "output_type": "display_data"
    },
    {
     "data": {
      "text/html": [
       "<pre style=\"white-space:pre;overflow-x:auto;line-height:normal;font-family:Menlo,'DejaVu Sans Mono',consolas,'Courier New',monospace\"><span style=\"font-weight: bold\">Execution logs:</span>\n",
       "## Search Results\n",
       "\n",
       "[win10系统的系统自带游戏去哪儿了 - 百度经验](https://jingyan.baidu.com/article/bea41d43a4b310b4c51be6b4.html)\n",
       "我相信很多人都玩过以前win7，win8以及xp系统里的小游戏，比如蜘蛛纸牌。那么电脑更新至win10后那些游戏都去哪儿了呢？\n",
       "\n",
       "[MySQL存储引擎之Spider内核深度解析 - 知乎](https://www.zhihu.com/column/p/27756211)\n",
       "图5. 执行XA事务，Spider与两个 后端节点 的交互 从图5可以看到Spider向后端节点发送XA START命令时会设置会话级别的事务特\n",
       "…\n",
       "\n",
       "[win10自带的纸牌游戏在哪 怎么样添加蜘蛛纸牌 - \n",
       "百度经验](https://jingyan.baidu.com/article/ff42efa9cc1eefc19e22022d.html)\n",
       "Mar 6, 2018 · 在使用XP系统时候，非常经典的蜘蛛纸牌在Windows10系统中没有找到，是Windows10已不再自带纸牌游戏了吗？其 \n",
       "…\n",
       "\n",
       "[如何评价电影《蜘蛛侠：英雄无归》（Spider-Man: No Way Home）…](https://www.zhihu.com/question/499757064)\n",
       "除了情怀以外这片子剧情也确实漏洞很多。我就想不明白为啥彼得一定要施法让全世界忘了自己是蜘蛛侠。 \n",
       "既然你的真实身份是神秘 …\n",
       "\n",
       "[vscode如何像spyder的variable explorer一样查看变量的值？ - 知乎](https://www.zhihu.com/question/355497136)\n",
       "Nov 12, 2019 · VS Code 中使用data wrangler进行数据查看，前提条件是使用 jupyter 运行代码。 Spyder 中双击打开变 …\n",
       "\n",
       "</pre>\n"
      ],
      "text/plain": [
       "\u001b[1mExecution logs:\u001b[0m\n",
       "## Search Results\n",
       "\n",
       "[win10系统的系统自带游戏去哪儿了 - 百度经验](https://jingyan.baidu.com/article/bea41d43a4b310b4c51be6b4.html)\n",
       "我相信很多人都玩过以前win7，win8以及xp系统里的小游戏，比如蜘蛛纸牌。那么电脑更新至win10后那些游戏都去哪儿了呢？\n",
       "\n",
       "[MySQL存储引擎之Spider内核深度解析 - 知乎](https://www.zhihu.com/column/p/27756211)\n",
       "图5. 执行XA事务，Spider与两个 后端节点 的交互 从图5可以看到Spider向后端节点发送XA START命令时会设置会话级别的事务特\n",
       "…\n",
       "\n",
       "[win10自带的纸牌游戏在哪 怎么样添加蜘蛛纸牌 - \n",
       "百度经验](https://jingyan.baidu.com/article/ff42efa9cc1eefc19e22022d.html)\n",
       "Mar 6, 2018 · 在使用XP系统时候，非常经典的蜘蛛纸牌在Windows10系统中没有找到，是Windows10已不再自带纸牌游戏了吗？其 \n",
       "…\n",
       "\n",
       "[如何评价电影《蜘蛛侠：英雄无归》（Spider-Man: No Way Home）…](https://www.zhihu.com/question/499757064)\n",
       "除了情怀以外这片子剧情也确实漏洞很多。我就想不明白为啥彼得一定要施法让全世界忘了自己是蜘蛛侠。 \n",
       "既然你的真实身份是神秘 …\n",
       "\n",
       "[vscode如何像spyder的variable explorer一样查看变量的值？ - 知乎](https://www.zhihu.com/question/355497136)\n",
       "Nov 12, 2019 · VS Code 中使用data wrangler进行数据查看，前提条件是使用 jupyter 运行代码。 Spyder 中双击打开变 …\n",
       "\n"
      ]
     },
     "metadata": {},
     "output_type": "display_data"
    },
    {
     "data": {
      "text/html": [
       "<pre style=\"white-space:pre;overflow-x:auto;line-height:normal;font-family:Menlo,'DejaVu Sans Mono',consolas,'Courier New',monospace\"><span style=\"color: #800000; text-decoration-color: #800000; font-weight: bold\">Code parsing failed on line </span><span style=\"color: #008080; text-decoration-color: #008080; font-weight: bold\">3</span><span style=\"color: #800000; text-decoration-color: #800000; font-weight: bold\"> due to: SyntaxError</span>\n",
       "<span style=\"color: #800000; text-decoration-color: #800000; font-weight: bold\">&lt;</span><span style=\"color: #800080; text-decoration-color: #800080; font-weight: bold\">/</span><span style=\"color: #ff00ff; text-decoration-color: #ff00ff; font-weight: bold\">code</span><span style=\"color: #000000; text-decoration-color: #000000; font-weight: bold\">]       ^</span>\n",
       "<span style=\"color: #000000; text-decoration-color: #000000; font-weight: bold\">Error: unmatched </span><span style=\"color: #008000; text-decoration-color: #008000\">']'</span><span style=\"color: #000000; text-decoration-color: #000000; font-weight: bold\"> (&lt;unknown</span><span style=\"color: #800000; text-decoration-color: #800000; font-weight: bold\">&gt;, line </span><span style=\"color: #008080; text-decoration-color: #008080; font-weight: bold\">3</span><span style=\"color: #800000; text-decoration-color: #800000; font-weight: bold\">)</span>\n",
       "</pre>\n"
      ],
      "text/plain": [
       "\u001b[1;31mCode parsing failed on line \u001b[0m\u001b[1;36m3\u001b[0m\u001b[1;31m due to: SyntaxError\u001b[0m\n",
       "\u001b[1;31m<\u001b[0m\u001b[1;35m/\u001b[0m\u001b[1;95mcode\u001b[0m\u001b[1;39m]\u001b[0m\u001b[1;39m       ^\u001b[0m\n",
       "\u001b[1;39mError: unmatched \u001b[0m\u001b[32m'\u001b[0m\u001b[32m]\u001b[0m\u001b[32m'\u001b[0m\u001b[1;39m \u001b[0m\u001b[1;39m(\u001b[0m\u001b[1;39m<unknown\u001b[0m\u001b[1;31m>\u001b[0m\u001b[1;31m, line \u001b[0m\u001b[1;36m3\u001b[0m\u001b[1;31m)\u001b[0m\n"
      ]
     },
     "metadata": {},
     "output_type": "display_data"
    },
    {
     "data": {
      "text/html": [
       "<pre style=\"white-space:pre;overflow-x:auto;line-height:normal;font-family:Menlo,'DejaVu Sans Mono',consolas,'Courier New',monospace\"><span style=\"color: #7f7f7f; text-decoration-color: #7f7f7f\">[Step 3: Duration 7.58 seconds| Input tokens: 8,411 | Output tokens: 244]</span>\n",
       "</pre>\n"
      ],
      "text/plain": [
       "\u001b[2m[Step 3: Duration 7.58 seconds| Input tokens: 8,411 | Output tokens: 244]\u001b[0m\n"
      ]
     },
     "metadata": {},
     "output_type": "display_data"
    },
    {
     "data": {
      "text/html": [
       "<pre style=\"white-space:pre;overflow-x:auto;line-height:normal;font-family:Menlo,'DejaVu Sans Mono',consolas,'Courier New',monospace\"><span style=\"color: #d4b702; text-decoration-color: #d4b702\">━━━━━━━━━━━━━━━━━━━━━━━━━━━━━━━━━━━━━━━━━━━━━━━━━━━━━ </span><span style=\"font-weight: bold\">Step </span><span style=\"color: #008080; text-decoration-color: #008080; font-weight: bold\">4</span><span style=\"color: #d4b702; text-decoration-color: #d4b702\"> ━━━━━━━━━━━━━━━━━━━━━━━━━━━━━━━━━━━━━━━━━━━━━━━━━━━━━━</span>\n",
       "</pre>\n"
      ],
      "text/plain": [
       "\u001b[38;2;212;183;2m━━━━━━━━━━━━━━━━━━━━━━━━━━━━━━━━━━━━━━━━━━━━━━━━━━━━━ \u001b[0m\u001b[1mStep \u001b[0m\u001b[1;36m4\u001b[0m\u001b[38;2;212;183;2m ━━━━━━━━━━━━━━━━━━━━━━━━━━━━━━━━━━━━━━━━━━━━━━━━━━━━━━\u001b[0m\n"
      ]
     },
     "metadata": {},
     "output_type": "display_data"
    },
    {
     "name": "stderr",
     "output_type": "stream",
     "text": [
      "c:\\Users\\rober\\repos\\learning_agents\\venv\\Lib\\site-packages\\httpx\\_models.py:408: DeprecationWarning: Use 'content=<...>' to upload raw bytes/text content.\n",
      "  headers, stream = encode_request(\n"
     ]
    },
    {
     "data": {
      "text/html": [
       "<pre style=\"white-space:pre;overflow-x:auto;line-height:normal;font-family:Menlo,'DejaVu Sans Mono',consolas,'Courier New',monospace\"> ─ <span style=\"font-weight: bold\">Executing parsed code:</span> ──────────────────────────────────────────────────────────────────────────────────────── \n",
       "  <span style=\"color: #f8f8f2; text-decoration-color: #f8f8f2; background-color: #272822\">popular_party_genres </span><span style=\"color: #ff4689; text-decoration-color: #ff4689; background-color: #272822\">=</span><span style=\"color: #f8f8f2; text-decoration-color: #f8f8f2; background-color: #272822\"> web_search(query</span><span style=\"color: #ff4689; text-decoration-color: #ff4689; background-color: #272822\">=</span><span style=\"color: #e6db74; text-decoration-color: #e6db74; background-color: #272822\">\"popular party music genres\"</span><span style=\"color: #f8f8f2; text-decoration-color: #f8f8f2; background-color: #272822\">)</span><span style=\"background-color: #272822\">                                          </span>  \n",
       "  <span style=\"color: #f8f8f2; text-decoration-color: #f8f8f2; background-color: #272822\">print(popular_party_genres)</span><span style=\"background-color: #272822\">                                                                                    </span>  \n",
       " ───────────────────────────────────────────────────────────────────────────────────────────────────────────────── \n",
       "</pre>\n"
      ],
      "text/plain": [
       " ─ \u001b[1mExecuting parsed code:\u001b[0m ──────────────────────────────────────────────────────────────────────────────────────── \n",
       "  \u001b[38;2;248;248;242;48;2;39;40;34mpopular_party_genres\u001b[0m\u001b[38;2;248;248;242;48;2;39;40;34m \u001b[0m\u001b[38;2;255;70;137;48;2;39;40;34m=\u001b[0m\u001b[38;2;248;248;242;48;2;39;40;34m \u001b[0m\u001b[38;2;248;248;242;48;2;39;40;34mweb_search\u001b[0m\u001b[38;2;248;248;242;48;2;39;40;34m(\u001b[0m\u001b[38;2;248;248;242;48;2;39;40;34mquery\u001b[0m\u001b[38;2;255;70;137;48;2;39;40;34m=\u001b[0m\u001b[38;2;230;219;116;48;2;39;40;34m\"\u001b[0m\u001b[38;2;230;219;116;48;2;39;40;34mpopular party music genres\u001b[0m\u001b[38;2;230;219;116;48;2;39;40;34m\"\u001b[0m\u001b[38;2;248;248;242;48;2;39;40;34m)\u001b[0m\u001b[48;2;39;40;34m                                          \u001b[0m  \n",
       "  \u001b[38;2;248;248;242;48;2;39;40;34mprint\u001b[0m\u001b[38;2;248;248;242;48;2;39;40;34m(\u001b[0m\u001b[38;2;248;248;242;48;2;39;40;34mpopular_party_genres\u001b[0m\u001b[38;2;248;248;242;48;2;39;40;34m)\u001b[0m\u001b[48;2;39;40;34m                                                                                    \u001b[0m  \n",
       " ───────────────────────────────────────────────────────────────────────────────────────────────────────────────── \n"
      ]
     },
     "metadata": {},
     "output_type": "display_data"
    },
    {
     "data": {
      "text/html": [
       "<pre style=\"white-space:pre;overflow-x:auto;line-height:normal;font-family:Menlo,'DejaVu Sans Mono',consolas,'Courier New',monospace\"><span style=\"font-weight: bold\">Execution logs:</span>\n",
       "## Search Results\n",
       "\n",
       "[POPULAR Definition &amp; Meaning - Merriam-Webster](https://www.merriam-webster.com/dictionary/popular)\n",
       "The meaning of POPULAR is of or relating to the general public. How to use popular in a sentence.\n",
       "\n",
       "[POPULAR | English meaning - Cambridge Dictionary](https://dictionary.cambridge.org/dictionary/english/popular)\n",
       "POPULAR definition: 1. liked, enjoyed, or supported by many people: 2. for or involving ordinary people rather \n",
       "than…. …\n",
       "\n",
       "[POPULAR Definition &amp; Meaning | Dictionary.com](https://www.dictionary.com/browse/popular)\n",
       "Popular definition: regarded with favor, approval, or affection by people in general.. See examples of POPULAR used\n",
       "in a …\n",
       "\n",
       "[Popular (From Wicked The Soundtrack) - YouTube](https://m.youtube.com/watch?v=5VjTswqyHdA)\n",
       "“Popular” Performed by Ariana Grande From Wicked - Music &amp; Lyrics By Stephen Schwartz...more\n",
       "\n",
       "[Popular (TV series) - Wikipedia](https://en.m.wikipedia.org/wiki/Popular_(TV_series))\n",
       "Brooke McQueen (Leslie Bibb) and Sam McPherson (Carly Pope), students at Jacqueline Kennedy High School, are …\n",
       "\n",
       "Out: None\n",
       "</pre>\n"
      ],
      "text/plain": [
       "\u001b[1mExecution logs:\u001b[0m\n",
       "## Search Results\n",
       "\n",
       "[POPULAR Definition & Meaning - Merriam-Webster](https://www.merriam-webster.com/dictionary/popular)\n",
       "The meaning of POPULAR is of or relating to the general public. How to use popular in a sentence.\n",
       "\n",
       "[POPULAR | English meaning - Cambridge Dictionary](https://dictionary.cambridge.org/dictionary/english/popular)\n",
       "POPULAR definition: 1. liked, enjoyed, or supported by many people: 2. for or involving ordinary people rather \n",
       "than…. …\n",
       "\n",
       "[POPULAR Definition & Meaning | Dictionary.com](https://www.dictionary.com/browse/popular)\n",
       "Popular definition: regarded with favor, approval, or affection by people in general.. See examples of POPULAR used\n",
       "in a …\n",
       "\n",
       "[Popular (From Wicked The Soundtrack) - YouTube](https://m.youtube.com/watch?v=5VjTswqyHdA)\n",
       "“Popular” Performed by Ariana Grande From Wicked - Music & Lyrics By Stephen Schwartz...more\n",
       "\n",
       "[Popular (TV series) - Wikipedia](https://en.m.wikipedia.org/wiki/Popular_(TV_series))\n",
       "Brooke McQueen (Leslie Bibb) and Sam McPherson (Carly Pope), students at Jacqueline Kennedy High School, are …\n",
       "\n",
       "Out: None\n"
      ]
     },
     "metadata": {},
     "output_type": "display_data"
    },
    {
     "data": {
      "text/html": [
       "<pre style=\"white-space:pre;overflow-x:auto;line-height:normal;font-family:Menlo,'DejaVu Sans Mono',consolas,'Courier New',monospace\"><span style=\"color: #7f7f7f; text-decoration-color: #7f7f7f\">[Step 4: Duration 9.28 seconds| Input tokens: 12,526 | Output tokens: 286]</span>\n",
       "</pre>\n"
      ],
      "text/plain": [
       "\u001b[2m[Step 4: Duration 9.28 seconds| Input tokens: 12,526 | Output tokens: 286]\u001b[0m\n"
      ]
     },
     "metadata": {},
     "output_type": "display_data"
    },
    {
     "data": {
      "text/html": [
       "<pre style=\"white-space:pre;overflow-x:auto;line-height:normal;font-family:Menlo,'DejaVu Sans Mono',consolas,'Courier New',monospace\"><span style=\"color: #d4b702; text-decoration-color: #d4b702\">━━━━━━━━━━━━━━━━━━━━━━━━━━━━━━━━━━━━━━━━━━━━━━━━━━━━━ </span><span style=\"font-weight: bold\">Step </span><span style=\"color: #008080; text-decoration-color: #008080; font-weight: bold\">5</span><span style=\"color: #d4b702; text-decoration-color: #d4b702\"> ━━━━━━━━━━━━━━━━━━━━━━━━━━━━━━━━━━━━━━━━━━━━━━━━━━━━━━</span>\n",
       "</pre>\n"
      ],
      "text/plain": [
       "\u001b[38;2;212;183;2m━━━━━━━━━━━━━━━━━━━━━━━━━━━━━━━━━━━━━━━━━━━━━━━━━━━━━ \u001b[0m\u001b[1mStep \u001b[0m\u001b[1;36m5\u001b[0m\u001b[38;2;212;183;2m ━━━━━━━━━━━━━━━━━━━━━━━━━━━━━━━━━━━━━━━━━━━━━━━━━━━━━━\u001b[0m\n"
      ]
     },
     "metadata": {},
     "output_type": "display_data"
    },
    {
     "name": "stderr",
     "output_type": "stream",
     "text": [
      "c:\\Users\\rober\\repos\\learning_agents\\venv\\Lib\\site-packages\\httpx\\_models.py:408: DeprecationWarning: Use 'content=<...>' to upload raw bytes/text content.\n",
      "  headers, stream = encode_request(\n"
     ]
    },
    {
     "data": {
      "text/html": [
       "<pre style=\"white-space:pre;overflow-x:auto;line-height:normal;font-family:Menlo,'DejaVu Sans Mono',consolas,'Courier New',monospace\"> ─ <span style=\"font-weight: bold\">Executing parsed code:</span> ──────────────────────────────────────────────────────────────────────────────────────── \n",
       "  <span style=\"color: #f8f8f2; text-decoration-color: #f8f8f2; background-color: #272822\">party_music_recommendations </span><span style=\"color: #ff4689; text-decoration-color: #ff4689; background-color: #272822\">=</span><span style=\"color: #f8f8f2; text-decoration-color: #f8f8f2; background-color: #272822\"> web_search(query</span><span style=\"color: #ff4689; text-decoration-color: #ff4689; background-color: #272822\">=</span><span style=\"color: #e6db74; text-decoration-color: #e6db74; background-color: #272822\">\"best dance songs for parties 2024\"</span><span style=\"color: #f8f8f2; text-decoration-color: #f8f8f2; background-color: #272822\">)</span><span style=\"background-color: #272822\">                            </span>  \n",
       "  <span style=\"color: #f8f8f2; text-decoration-color: #f8f8f2; background-color: #272822\">print(party_music_recommendations)</span><span style=\"background-color: #272822\">                                                                             </span>  \n",
       " ───────────────────────────────────────────────────────────────────────────────────────────────────────────────── \n",
       "</pre>\n"
      ],
      "text/plain": [
       " ─ \u001b[1mExecuting parsed code:\u001b[0m ──────────────────────────────────────────────────────────────────────────────────────── \n",
       "  \u001b[38;2;248;248;242;48;2;39;40;34mparty_music_recommendations\u001b[0m\u001b[38;2;248;248;242;48;2;39;40;34m \u001b[0m\u001b[38;2;255;70;137;48;2;39;40;34m=\u001b[0m\u001b[38;2;248;248;242;48;2;39;40;34m \u001b[0m\u001b[38;2;248;248;242;48;2;39;40;34mweb_search\u001b[0m\u001b[38;2;248;248;242;48;2;39;40;34m(\u001b[0m\u001b[38;2;248;248;242;48;2;39;40;34mquery\u001b[0m\u001b[38;2;255;70;137;48;2;39;40;34m=\u001b[0m\u001b[38;2;230;219;116;48;2;39;40;34m\"\u001b[0m\u001b[38;2;230;219;116;48;2;39;40;34mbest dance songs for parties 2024\u001b[0m\u001b[38;2;230;219;116;48;2;39;40;34m\"\u001b[0m\u001b[38;2;248;248;242;48;2;39;40;34m)\u001b[0m\u001b[48;2;39;40;34m                            \u001b[0m  \n",
       "  \u001b[38;2;248;248;242;48;2;39;40;34mprint\u001b[0m\u001b[38;2;248;248;242;48;2;39;40;34m(\u001b[0m\u001b[38;2;248;248;242;48;2;39;40;34mparty_music_recommendations\u001b[0m\u001b[38;2;248;248;242;48;2;39;40;34m)\u001b[0m\u001b[48;2;39;40;34m                                                                             \u001b[0m  \n",
       " ───────────────────────────────────────────────────────────────────────────────────────────────────────────────── \n"
      ]
     },
     "metadata": {},
     "output_type": "display_data"
    },
    {
     "data": {
      "text/html": [
       "<pre style=\"white-space:pre;overflow-x:auto;line-height:normal;font-family:Menlo,'DejaVu Sans Mono',consolas,'Courier New',monospace\"><span style=\"font-weight: bold\">Execution logs:</span>\n",
       "## Search Results\n",
       "\n",
       "[windows 下哪个 terminal 最好用？ - 知乎](https://www.zhihu.com/question/640370911/answers/updated)\n",
       "要我推的话Windows端就vs code里面的terminal和Windows terminal了，这是两都是微软为数不多的超级良心软件。Windows …\n",
       "\n",
       "[2025年 8月 显卡天梯图（更新RTX 5050/RX 9060XT）](https://www.zhihu.com/tardis/zm/art/294283384)\n",
       "Jul 31, 2025 · 1080P/2K/4K分辨率，以最新发布的RTX 5050为基准（25款主流游戏测试成绩取平均值） 数据来源 …\n",
       "\n",
       "[Best wishes 和 Best regards 有什么区别? - 百度知道](https://zhidao.baidu.com/question/506442326.html)\n",
       "Best wishes 和 Best regards 有什么区别?首先我们来看下Best wishes和Best regards的大致意思：Best \n",
       "wishes：词性为短语，用于 …\n",
       "\n",
       "[如何看待AAAI 2025的录用结果？ - 知乎](https://www.zhihu.com/question/5972430556?write)\n",
       "现在整体上来说AAAI这类会议的不确定性和混乱程度是比较大的，投稿中运气占了挺大的成分。今年组里投了3篇AAAI，跟朋友合作\n",
       "1 …\n",
       "\n",
       "[2025年 8月 CPU天梯图（更新锐龙9 9950X3D） - 知乎](https://www.zhihu.com/tardis/bd/art/280070583)\n",
       "Jul 31, 2025 · \n",
       "桌面端CPU综合性能天梯图，提供最新的CPU性能排名和对比信息，帮助用户了解不同型号的表现和选择适合自己的产 …\n",
       "\n",
       "Out: None\n",
       "</pre>\n"
      ],
      "text/plain": [
       "\u001b[1mExecution logs:\u001b[0m\n",
       "## Search Results\n",
       "\n",
       "[windows 下哪个 terminal 最好用？ - 知乎](https://www.zhihu.com/question/640370911/answers/updated)\n",
       "要我推的话Windows端就vs code里面的terminal和Windows terminal了，这是两都是微软为数不多的超级良心软件。Windows …\n",
       "\n",
       "[2025年 8月 显卡天梯图（更新RTX 5050/RX 9060XT）](https://www.zhihu.com/tardis/zm/art/294283384)\n",
       "Jul 31, 2025 · 1080P/2K/4K分辨率，以最新发布的RTX 5050为基准（25款主流游戏测试成绩取平均值） 数据来源 …\n",
       "\n",
       "[Best wishes 和 Best regards 有什么区别? - 百度知道](https://zhidao.baidu.com/question/506442326.html)\n",
       "Best wishes 和 Best regards 有什么区别?首先我们来看下Best wishes和Best regards的大致意思：Best \n",
       "wishes：词性为短语，用于 …\n",
       "\n",
       "[如何看待AAAI 2025的录用结果？ - 知乎](https://www.zhihu.com/question/5972430556?write)\n",
       "现在整体上来说AAAI这类会议的不确定性和混乱程度是比较大的，投稿中运气占了挺大的成分。今年组里投了3篇AAAI，跟朋友合作\n",
       "1 …\n",
       "\n",
       "[2025年 8月 CPU天梯图（更新锐龙9 9950X3D） - 知乎](https://www.zhihu.com/tardis/bd/art/280070583)\n",
       "Jul 31, 2025 · \n",
       "桌面端CPU综合性能天梯图，提供最新的CPU性能排名和对比信息，帮助用户了解不同型号的表现和选择适合自己的产 …\n",
       "\n",
       "Out: None\n"
      ]
     },
     "metadata": {},
     "output_type": "display_data"
    },
    {
     "data": {
      "text/html": [
       "<pre style=\"white-space:pre;overflow-x:auto;line-height:normal;font-family:Menlo,'DejaVu Sans Mono',consolas,'Courier New',monospace\"><span style=\"color: #7f7f7f; text-decoration-color: #7f7f7f\">[Step 5: Duration 11.47 seconds| Input tokens: 17,020 | Output tokens: 333]</span>\n",
       "</pre>\n"
      ],
      "text/plain": [
       "\u001b[2m[Step 5: Duration 11.47 seconds| Input tokens: 17,020 | Output tokens: 333]\u001b[0m\n"
      ]
     },
     "metadata": {},
     "output_type": "display_data"
    },
    {
     "data": {
      "text/html": [
       "<pre style=\"white-space:pre;overflow-x:auto;line-height:normal;font-family:Menlo,'DejaVu Sans Mono',consolas,'Courier New',monospace\"><span style=\"color: #d4b702; text-decoration-color: #d4b702\">━━━━━━━━━━━━━━━━━━━━━━━━━━━━━━━━━━━━━━━━━━━━━━━━━━━━━ </span><span style=\"font-weight: bold\">Step </span><span style=\"color: #008080; text-decoration-color: #008080; font-weight: bold\">6</span><span style=\"color: #d4b702; text-decoration-color: #d4b702\"> ━━━━━━━━━━━━━━━━━━━━━━━━━━━━━━━━━━━━━━━━━━━━━━━━━━━━━━</span>\n",
       "</pre>\n"
      ],
      "text/plain": [
       "\u001b[38;2;212;183;2m━━━━━━━━━━━━━━━━━━━━━━━━━━━━━━━━━━━━━━━━━━━━━━━━━━━━━ \u001b[0m\u001b[1mStep \u001b[0m\u001b[1;36m6\u001b[0m\u001b[38;2;212;183;2m ━━━━━━━━━━━━━━━━━━━━━━━━━━━━━━━━━━━━━━━━━━━━━━━━━━━━━━\u001b[0m\n"
      ]
     },
     "metadata": {},
     "output_type": "display_data"
    },
    {
     "name": "stderr",
     "output_type": "stream",
     "text": [
      "c:\\Users\\rober\\repos\\learning_agents\\venv\\Lib\\site-packages\\httpx\\_models.py:408: DeprecationWarning: Use 'content=<...>' to upload raw bytes/text content.\n",
      "  headers, stream = encode_request(\n"
     ]
    },
    {
     "data": {
      "text/html": [
       "<pre style=\"white-space:pre;overflow-x:auto;line-height:normal;font-family:Menlo,'DejaVu Sans Mono',consolas,'Courier New',monospace\"> ─ <span style=\"font-weight: bold\">Executing parsed code:</span> ──────────────────────────────────────────────────────────────────────────────────────── \n",
       "  <span style=\"color: #f8f8f2; text-decoration-color: #f8f8f2; background-color: #272822\">dance_party_songs </span><span style=\"color: #ff4689; text-decoration-color: #ff4689; background-color: #272822\">=</span><span style=\"color: #f8f8f2; text-decoration-color: #f8f8f2; background-color: #272822\"> web_search(query</span><span style=\"color: #ff4689; text-decoration-color: #ff4689; background-color: #272822\">=</span><span style=\"color: #e6db74; text-decoration-color: #e6db74; background-color: #272822\">\"party songs that get people dancing\"</span><span style=\"color: #f8f8f2; text-decoration-color: #f8f8f2; background-color: #272822\">)</span><span style=\"background-color: #272822\">                                    </span>  \n",
       "  <span style=\"color: #f8f8f2; text-decoration-color: #f8f8f2; background-color: #272822\">print(dance_party_songs)</span><span style=\"background-color: #272822\">                                                                                       </span>  \n",
       " ───────────────────────────────────────────────────────────────────────────────────────────────────────────────── \n",
       "</pre>\n"
      ],
      "text/plain": [
       " ─ \u001b[1mExecuting parsed code:\u001b[0m ──────────────────────────────────────────────────────────────────────────────────────── \n",
       "  \u001b[38;2;248;248;242;48;2;39;40;34mdance_party_songs\u001b[0m\u001b[38;2;248;248;242;48;2;39;40;34m \u001b[0m\u001b[38;2;255;70;137;48;2;39;40;34m=\u001b[0m\u001b[38;2;248;248;242;48;2;39;40;34m \u001b[0m\u001b[38;2;248;248;242;48;2;39;40;34mweb_search\u001b[0m\u001b[38;2;248;248;242;48;2;39;40;34m(\u001b[0m\u001b[38;2;248;248;242;48;2;39;40;34mquery\u001b[0m\u001b[38;2;255;70;137;48;2;39;40;34m=\u001b[0m\u001b[38;2;230;219;116;48;2;39;40;34m\"\u001b[0m\u001b[38;2;230;219;116;48;2;39;40;34mparty songs that get people dancing\u001b[0m\u001b[38;2;230;219;116;48;2;39;40;34m\"\u001b[0m\u001b[38;2;248;248;242;48;2;39;40;34m)\u001b[0m\u001b[48;2;39;40;34m                                    \u001b[0m  \n",
       "  \u001b[38;2;248;248;242;48;2;39;40;34mprint\u001b[0m\u001b[38;2;248;248;242;48;2;39;40;34m(\u001b[0m\u001b[38;2;248;248;242;48;2;39;40;34mdance_party_songs\u001b[0m\u001b[38;2;248;248;242;48;2;39;40;34m)\u001b[0m\u001b[48;2;39;40;34m                                                                                       \u001b[0m  \n",
       " ───────────────────────────────────────────────────────────────────────────────────────────────────────────────── \n"
      ]
     },
     "metadata": {},
     "output_type": "display_data"
    },
    {
     "data": {
      "text/html": [
       "<pre style=\"white-space:pre;overflow-x:auto;line-height:normal;font-family:Menlo,'DejaVu Sans Mono',consolas,'Courier New',monospace\"><span style=\"font-weight: bold\">Execution logs:</span>\n",
       "## Search Results\n",
       "\n",
       "[at/in the party | UsingEnglish.com ESL Forum](https://www.usingenglish.com/forum/threads/at-in-the-party.168470/)\n",
       "Nov 26, 2011 · Hi, I couldn't grasp the difference between 'at the party' and 'in the party', could you please tell\n",
       "me? …\n",
       "\n",
       "[Party’s or Parties or Parties? | UsingEnglish.com ESL \n",
       "Forum](https://www.usingenglish.com/forum/threads/party’s-or-parties-or-parties.271443/)\n",
       "May 22, 2019 · In a legal document, I am referred to as a “party” in some instances. The legal secretary wrote, \n",
       "“...Order …\n",
       "\n",
       "[国外的party究竟都会做些什么（才会觉得丰富一点不无聊）？](https://www.zhihu.com/question/22090093)\n",
       "荷兰，套路是先pre (house) party (9-11点），小圈子几个都已经认识的人，瞎聊一阵，话题主要有娱乐（电影，歌星），周围 …\n",
       "\n",
       "[怎样评价I社2020年新作honey select2？ - 知乎](https://www.zhihu.com/question/398871298)\n",
       "为什么要邀请我，难道我是lsp的事情已经暴露了吗？（狗头） 言归正传，下面是正经向评测（义正言辞） \n",
       "HS2作为I社第三款unity引 …\n",
       "\n",
       "['Crash A Party' Meaning - UsingEnglish.com](https://www.usingenglish.com/reference/idioms/crash+a+party.html)\n",
       "What does the idiom 'Crash A Party' mean? With a clear, concise definition and usage examples, discover this \n",
       "idiom's meaning …\n",
       "\n",
       "Out: None\n",
       "</pre>\n"
      ],
      "text/plain": [
       "\u001b[1mExecution logs:\u001b[0m\n",
       "## Search Results\n",
       "\n",
       "[at/in the party | UsingEnglish.com ESL Forum](https://www.usingenglish.com/forum/threads/at-in-the-party.168470/)\n",
       "Nov 26, 2011 · Hi, I couldn't grasp the difference between 'at the party' and 'in the party', could you please tell\n",
       "me? …\n",
       "\n",
       "[Party’s or Parties or Parties? | UsingEnglish.com ESL \n",
       "Forum](https://www.usingenglish.com/forum/threads/party’s-or-parties-or-parties.271443/)\n",
       "May 22, 2019 · In a legal document, I am referred to as a “party” in some instances. The legal secretary wrote, \n",
       "“...Order …\n",
       "\n",
       "[国外的party究竟都会做些什么（才会觉得丰富一点不无聊）？](https://www.zhihu.com/question/22090093)\n",
       "荷兰，套路是先pre (house) party (9-11点），小圈子几个都已经认识的人，瞎聊一阵，话题主要有娱乐（电影，歌星），周围 …\n",
       "\n",
       "[怎样评价I社2020年新作honey select2？ - 知乎](https://www.zhihu.com/question/398871298)\n",
       "为什么要邀请我，难道我是lsp的事情已经暴露了吗？（狗头） 言归正传，下面是正经向评测（义正言辞） \n",
       "HS2作为I社第三款unity引 …\n",
       "\n",
       "['Crash A Party' Meaning - UsingEnglish.com](https://www.usingenglish.com/reference/idioms/crash+a+party.html)\n",
       "What does the idiom 'Crash A Party' mean? With a clear, concise definition and usage examples, discover this \n",
       "idiom's meaning …\n",
       "\n",
       "Out: None\n"
      ]
     },
     "metadata": {},
     "output_type": "display_data"
    },
    {
     "data": {
      "text/html": [
       "<pre style=\"white-space:pre;overflow-x:auto;line-height:normal;font-family:Menlo,'DejaVu Sans Mono',consolas,'Courier New',monospace\"><span style=\"color: #7f7f7f; text-decoration-color: #7f7f7f\">[Step 6: Duration 13.77 seconds| Input tokens: 22,079 | Output tokens: 401]</span>\n",
       "</pre>\n"
      ],
      "text/plain": [
       "\u001b[2m[Step 6: Duration 13.77 seconds| Input tokens: 22,079 | Output tokens: 401]\u001b[0m\n"
      ]
     },
     "metadata": {},
     "output_type": "display_data"
    },
    {
     "data": {
      "text/html": [
       "<pre style=\"white-space:pre;overflow-x:auto;line-height:normal;font-family:Menlo,'DejaVu Sans Mono',consolas,'Courier New',monospace\"><span style=\"color: #d4b702; text-decoration-color: #d4b702\">━━━━━━━━━━━━━━━━━━━━━━━━━━━━━━━━━━━━━━━━━━━━━━━━━━━━━ </span><span style=\"font-weight: bold\">Step </span><span style=\"color: #008080; text-decoration-color: #008080; font-weight: bold\">7</span><span style=\"color: #d4b702; text-decoration-color: #d4b702\"> ━━━━━━━━━━━━━━━━━━━━━━━━━━━━━━━━━━━━━━━━━━━━━━━━━━━━━━</span>\n",
       "</pre>\n"
      ],
      "text/plain": [
       "\u001b[38;2;212;183;2m━━━━━━━━━━━━━━━━━━━━━━━━━━━━━━━━━━━━━━━━━━━━━━━━━━━━━ \u001b[0m\u001b[1mStep \u001b[0m\u001b[1;36m7\u001b[0m\u001b[38;2;212;183;2m ━━━━━━━━━━━━━━━━━━━━━━━━━━━━━━━━━━━━━━━━━━━━━━━━━━━━━━\u001b[0m\n"
      ]
     },
     "metadata": {},
     "output_type": "display_data"
    },
    {
     "name": "stderr",
     "output_type": "stream",
     "text": [
      "c:\\Users\\rober\\repos\\learning_agents\\venv\\Lib\\site-packages\\httpx\\_models.py:408: DeprecationWarning: Use 'content=<...>' to upload raw bytes/text content.\n",
      "  headers, stream = encode_request(\n"
     ]
    },
    {
     "data": {
      "text/html": [
       "<pre style=\"white-space:pre;overflow-x:auto;line-height:normal;font-family:Menlo,'DejaVu Sans Mono',consolas,'Courier New',monospace\"> ─ <span style=\"font-weight: bold\">Executing parsed code:</span> ──────────────────────────────────────────────────────────────────────────────────────── \n",
       "  <span style=\"color: #f8f8f2; text-decoration-color: #f8f8f2; background-color: #272822\">party_hits </span><span style=\"color: #ff4689; text-decoration-color: #ff4689; background-color: #272822\">=</span><span style=\"color: #f8f8f2; text-decoration-color: #f8f8f2; background-color: #272822\"> web_search(query</span><span style=\"color: #ff4689; text-decoration-color: #ff4689; background-color: #272822\">=</span><span style=\"color: #e6db74; text-decoration-color: #e6db74; background-color: #272822\">\"popular party hits 2024\"</span><span style=\"color: #f8f8f2; text-decoration-color: #f8f8f2; background-color: #272822\">)</span><span style=\"background-color: #272822\">                                                       </span>  \n",
       "  <span style=\"color: #f8f8f2; text-decoration-color: #f8f8f2; background-color: #272822\">print(party_hits)</span><span style=\"background-color: #272822\">                                                                                              </span>  \n",
       " ───────────────────────────────────────────────────────────────────────────────────────────────────────────────── \n",
       "</pre>\n"
      ],
      "text/plain": [
       " ─ \u001b[1mExecuting parsed code:\u001b[0m ──────────────────────────────────────────────────────────────────────────────────────── \n",
       "  \u001b[38;2;248;248;242;48;2;39;40;34mparty_hits\u001b[0m\u001b[38;2;248;248;242;48;2;39;40;34m \u001b[0m\u001b[38;2;255;70;137;48;2;39;40;34m=\u001b[0m\u001b[38;2;248;248;242;48;2;39;40;34m \u001b[0m\u001b[38;2;248;248;242;48;2;39;40;34mweb_search\u001b[0m\u001b[38;2;248;248;242;48;2;39;40;34m(\u001b[0m\u001b[38;2;248;248;242;48;2;39;40;34mquery\u001b[0m\u001b[38;2;255;70;137;48;2;39;40;34m=\u001b[0m\u001b[38;2;230;219;116;48;2;39;40;34m\"\u001b[0m\u001b[38;2;230;219;116;48;2;39;40;34mpopular party hits 2024\u001b[0m\u001b[38;2;230;219;116;48;2;39;40;34m\"\u001b[0m\u001b[38;2;248;248;242;48;2;39;40;34m)\u001b[0m\u001b[48;2;39;40;34m                                                       \u001b[0m  \n",
       "  \u001b[38;2;248;248;242;48;2;39;40;34mprint\u001b[0m\u001b[38;2;248;248;242;48;2;39;40;34m(\u001b[0m\u001b[38;2;248;248;242;48;2;39;40;34mparty_hits\u001b[0m\u001b[38;2;248;248;242;48;2;39;40;34m)\u001b[0m\u001b[48;2;39;40;34m                                                                                              \u001b[0m  \n",
       " ───────────────────────────────────────────────────────────────────────────────────────────────────────────────── \n"
      ]
     },
     "metadata": {},
     "output_type": "display_data"
    },
    {
     "data": {
      "text/html": [
       "<pre style=\"white-space:pre;overflow-x:auto;line-height:normal;font-family:Menlo,'DejaVu Sans Mono',consolas,'Courier New',monospace\"><span style=\"font-weight: bold\">Execution logs:</span>\n",
       "## Search Results\n",
       "\n",
       "[POPULAR Definition &amp; Meaning - Merriam-Webster](https://www.merriam-webster.com/dictionary/popular)\n",
       "The meaning of POPULAR is of or relating to the general public. How to use popular in a sentence.\n",
       "\n",
       "[POPULAR | English meaning - Cambridge Dictionary](https://dictionary.cambridge.org/dictionary/english/popular)\n",
       "POPULAR definition: 1. liked, enjoyed, or supported by many people: 2. for or involving ordinary people rather \n",
       "than…. …\n",
       "\n",
       "[POPULAR Definition &amp; Meaning | Dictionary.com](https://www.dictionary.com/browse/popular)\n",
       "Popular definition: regarded with favor, approval, or affection by people in general.. See examples of POPULAR used\n",
       "in a …\n",
       "\n",
       "[Popular (From Wicked The Soundtrack) - YouTube](https://m.youtube.com/watch?v=5VjTswqyHdA)\n",
       "“Popular” Performed by Ariana Grande From Wicked - Music &amp; Lyrics By Stephen Schwartz...more\n",
       "\n",
       "[Popular (TV series) - Wikipedia](https://en.m.wikipedia.org/wiki/Popular_(TV_series))\n",
       "Brooke McQueen (Leslie Bibb) and Sam McPherson (Carly Pope), students at Jacqueline Kennedy High School, are …\n",
       "\n",
       "Out: None\n",
       "</pre>\n"
      ],
      "text/plain": [
       "\u001b[1mExecution logs:\u001b[0m\n",
       "## Search Results\n",
       "\n",
       "[POPULAR Definition & Meaning - Merriam-Webster](https://www.merriam-webster.com/dictionary/popular)\n",
       "The meaning of POPULAR is of or relating to the general public. How to use popular in a sentence.\n",
       "\n",
       "[POPULAR | English meaning - Cambridge Dictionary](https://dictionary.cambridge.org/dictionary/english/popular)\n",
       "POPULAR definition: 1. liked, enjoyed, or supported by many people: 2. for or involving ordinary people rather \n",
       "than…. …\n",
       "\n",
       "[POPULAR Definition & Meaning | Dictionary.com](https://www.dictionary.com/browse/popular)\n",
       "Popular definition: regarded with favor, approval, or affection by people in general.. See examples of POPULAR used\n",
       "in a …\n",
       "\n",
       "[Popular (From Wicked The Soundtrack) - YouTube](https://m.youtube.com/watch?v=5VjTswqyHdA)\n",
       "“Popular” Performed by Ariana Grande From Wicked - Music & Lyrics By Stephen Schwartz...more\n",
       "\n",
       "[Popular (TV series) - Wikipedia](https://en.m.wikipedia.org/wiki/Popular_(TV_series))\n",
       "Brooke McQueen (Leslie Bibb) and Sam McPherson (Carly Pope), students at Jacqueline Kennedy High School, are …\n",
       "\n",
       "Out: None\n"
      ]
     },
     "metadata": {},
     "output_type": "display_data"
    },
    {
     "data": {
      "text/html": [
       "<pre style=\"white-space:pre;overflow-x:auto;line-height:normal;font-family:Menlo,'DejaVu Sans Mono',consolas,'Courier New',monospace\"><span style=\"color: #7f7f7f; text-decoration-color: #7f7f7f\">[Step 7: Duration 11.54 seconds| Input tokens: 27,667 | Output tokens: 445]</span>\n",
       "</pre>\n"
      ],
      "text/plain": [
       "\u001b[2m[Step 7: Duration 11.54 seconds| Input tokens: 27,667 | Output tokens: 445]\u001b[0m\n"
      ]
     },
     "metadata": {},
     "output_type": "display_data"
    },
    {
     "data": {
      "text/html": [
       "<pre style=\"white-space:pre;overflow-x:auto;line-height:normal;font-family:Menlo,'DejaVu Sans Mono',consolas,'Courier New',monospace\"><span style=\"color: #d4b702; text-decoration-color: #d4b702\">━━━━━━━━━━━━━━━━━━━━━━━━━━━━━━━━━━━━━━━━━━━━━━━━━━━━━ </span><span style=\"font-weight: bold\">Step </span><span style=\"color: #008080; text-decoration-color: #008080; font-weight: bold\">8</span><span style=\"color: #d4b702; text-decoration-color: #d4b702\"> ━━━━━━━━━━━━━━━━━━━━━━━━━━━━━━━━━━━━━━━━━━━━━━━━━━━━━━</span>\n",
       "</pre>\n"
      ],
      "text/plain": [
       "\u001b[38;2;212;183;2m━━━━━━━━━━━━━━━━━━━━━━━━━━━━━━━━━━━━━━━━━━━━━━━━━━━━━ \u001b[0m\u001b[1mStep \u001b[0m\u001b[1;36m8\u001b[0m\u001b[38;2;212;183;2m ━━━━━━━━━━━━━━━━━━━━━━━━━━━━━━━━━━━━━━━━━━━━━━━━━━━━━━\u001b[0m\n"
      ]
     },
     "metadata": {},
     "output_type": "display_data"
    },
    {
     "name": "stderr",
     "output_type": "stream",
     "text": [
      "c:\\Users\\rober\\repos\\learning_agents\\venv\\Lib\\site-packages\\httpx\\_models.py:408: DeprecationWarning: Use 'content=<...>' to upload raw bytes/text content.\n",
      "  headers, stream = encode_request(\n"
     ]
    },
    {
     "data": {
      "text/html": [
       "<pre style=\"white-space:pre;overflow-x:auto;line-height:normal;font-family:Menlo,'DejaVu Sans Mono',consolas,'Courier New',monospace\"> ─ <span style=\"font-weight: bold\">Executing parsed code:</span> ──────────────────────────────────────────────────────────────────────────────────────── \n",
       "  <span style=\"color: #f8f8f2; text-decoration-color: #f8f8f2; background-color: #272822\">best_party_songs </span><span style=\"color: #ff4689; text-decoration-color: #ff4689; background-color: #272822\">=</span><span style=\"color: #f8f8f2; text-decoration-color: #f8f8f2; background-color: #272822\"> web_search(query</span><span style=\"color: #ff4689; text-decoration-color: #ff4689; background-color: #272822\">=</span><span style=\"color: #e6db74; text-decoration-color: #e6db74; background-color: #272822\">\"best party songs to get people dancing\"</span><span style=\"color: #f8f8f2; text-decoration-color: #f8f8f2; background-color: #272822\">)</span><span style=\"background-color: #272822\">                                  </span>  \n",
       "  <span style=\"color: #f8f8f2; text-decoration-color: #f8f8f2; background-color: #272822\">print(best_party_songs)</span><span style=\"background-color: #272822\">                                                                                        </span>  \n",
       " ───────────────────────────────────────────────────────────────────────────────────────────────────────────────── \n",
       "</pre>\n"
      ],
      "text/plain": [
       " ─ \u001b[1mExecuting parsed code:\u001b[0m ──────────────────────────────────────────────────────────────────────────────────────── \n",
       "  \u001b[38;2;248;248;242;48;2;39;40;34mbest_party_songs\u001b[0m\u001b[38;2;248;248;242;48;2;39;40;34m \u001b[0m\u001b[38;2;255;70;137;48;2;39;40;34m=\u001b[0m\u001b[38;2;248;248;242;48;2;39;40;34m \u001b[0m\u001b[38;2;248;248;242;48;2;39;40;34mweb_search\u001b[0m\u001b[38;2;248;248;242;48;2;39;40;34m(\u001b[0m\u001b[38;2;248;248;242;48;2;39;40;34mquery\u001b[0m\u001b[38;2;255;70;137;48;2;39;40;34m=\u001b[0m\u001b[38;2;230;219;116;48;2;39;40;34m\"\u001b[0m\u001b[38;2;230;219;116;48;2;39;40;34mbest party songs to get people dancing\u001b[0m\u001b[38;2;230;219;116;48;2;39;40;34m\"\u001b[0m\u001b[38;2;248;248;242;48;2;39;40;34m)\u001b[0m\u001b[48;2;39;40;34m                                  \u001b[0m  \n",
       "  \u001b[38;2;248;248;242;48;2;39;40;34mprint\u001b[0m\u001b[38;2;248;248;242;48;2;39;40;34m(\u001b[0m\u001b[38;2;248;248;242;48;2;39;40;34mbest_party_songs\u001b[0m\u001b[38;2;248;248;242;48;2;39;40;34m)\u001b[0m\u001b[48;2;39;40;34m                                                                                        \u001b[0m  \n",
       " ───────────────────────────────────────────────────────────────────────────────────────────────────────────────── \n"
      ]
     },
     "metadata": {},
     "output_type": "display_data"
    },
    {
     "data": {
      "text/html": [
       "<pre style=\"white-space:pre;overflow-x:auto;line-height:normal;font-family:Menlo,'DejaVu Sans Mono',consolas,'Courier New',monospace\"><span style=\"font-weight: bold\">Execution logs:</span>\n",
       "## Search Results\n",
       "\n",
       "[windows 下哪个 terminal 最好用？ - 知乎](https://www.zhihu.com/question/640370911/answers/updated)\n",
       "要我推的话Windows端就vs code里面的terminal和Windows terminal了，这是两都是微软为数不多的超级良心软件。Windows …\n",
       "\n",
       "[2025年 8月 显卡天梯图（更新RTX 5050/RX 9060XT）](https://www.zhihu.com/tardis/zm/art/294283384)\n",
       "Jul 31, 2025 · 1080P/2K/4K分辨率，以最新发布的RTX 5050为基准（25款主流游戏测试成绩取平均值） 数据来源 …\n",
       "\n",
       "[Best wishes 和 Best regards 有什么区别? - 百度知道](https://zhidao.baidu.com/question/506442326.html)\n",
       "Best wishes 和 Best regards 有什么区别?首先我们来看下Best wishes和Best regards的大致意思：Best \n",
       "wishes：词性为短语，用于 …\n",
       "\n",
       "[如何看待AAAI 2025的录用结果？ - 知乎](https://www.zhihu.com/question/5972430556?write)\n",
       "现在整体上来说AAAI这类会议的不确定性和混乱程度是比较大的，投稿中运气占了挺大的成分。今年组里投了3篇AAAI，跟朋友合作\n",
       "1 …\n",
       "\n",
       "[2025年 8月 CPU天梯图（更新锐龙9 9950X3D） - 知乎](https://www.zhihu.com/tardis/bd/art/280070583)\n",
       "Jul 31, 2025 · \n",
       "桌面端CPU综合性能天梯图，提供最新的CPU性能排名和对比信息，帮助用户了解不同型号的表现和选择适合自己的产 …\n",
       "\n",
       "Out: None\n",
       "</pre>\n"
      ],
      "text/plain": [
       "\u001b[1mExecution logs:\u001b[0m\n",
       "## Search Results\n",
       "\n",
       "[windows 下哪个 terminal 最好用？ - 知乎](https://www.zhihu.com/question/640370911/answers/updated)\n",
       "要我推的话Windows端就vs code里面的terminal和Windows terminal了，这是两都是微软为数不多的超级良心软件。Windows …\n",
       "\n",
       "[2025年 8月 显卡天梯图（更新RTX 5050/RX 9060XT）](https://www.zhihu.com/tardis/zm/art/294283384)\n",
       "Jul 31, 2025 · 1080P/2K/4K分辨率，以最新发布的RTX 5050为基准（25款主流游戏测试成绩取平均值） 数据来源 …\n",
       "\n",
       "[Best wishes 和 Best regards 有什么区别? - 百度知道](https://zhidao.baidu.com/question/506442326.html)\n",
       "Best wishes 和 Best regards 有什么区别?首先我们来看下Best wishes和Best regards的大致意思：Best \n",
       "wishes：词性为短语，用于 …\n",
       "\n",
       "[如何看待AAAI 2025的录用结果？ - 知乎](https://www.zhihu.com/question/5972430556?write)\n",
       "现在整体上来说AAAI这类会议的不确定性和混乱程度是比较大的，投稿中运气占了挺大的成分。今年组里投了3篇AAAI，跟朋友合作\n",
       "1 …\n",
       "\n",
       "[2025年 8月 CPU天梯图（更新锐龙9 9950X3D） - 知乎](https://www.zhihu.com/tardis/bd/art/280070583)\n",
       "Jul 31, 2025 · \n",
       "桌面端CPU综合性能天梯图，提供最新的CPU性能排名和对比信息，帮助用户了解不同型号的表现和选择适合自己的产 …\n",
       "\n",
       "Out: None\n"
      ]
     },
     "metadata": {},
     "output_type": "display_data"
    },
    {
     "data": {
      "text/html": [
       "<pre style=\"white-space:pre;overflow-x:auto;line-height:normal;font-family:Menlo,'DejaVu Sans Mono',consolas,'Courier New',monospace\"><span style=\"color: #7f7f7f; text-decoration-color: #7f7f7f\">[Step 8: Duration 12.37 seconds| Input tokens: 33,636 | Output tokens: 498]</span>\n",
       "</pre>\n"
      ],
      "text/plain": [
       "\u001b[2m[Step 8: Duration 12.37 seconds| Input tokens: 33,636 | Output tokens: 498]\u001b[0m\n"
      ]
     },
     "metadata": {},
     "output_type": "display_data"
    },
    {
     "data": {
      "text/html": [
       "<pre style=\"white-space:pre;overflow-x:auto;line-height:normal;font-family:Menlo,'DejaVu Sans Mono',consolas,'Courier New',monospace\"><span style=\"color: #d4b702; text-decoration-color: #d4b702\">━━━━━━━━━━━━━━━━━━━━━━━━━━━━━━━━━━━━━━━━━━━━━━━━━━━━━ </span><span style=\"font-weight: bold\">Step </span><span style=\"color: #008080; text-decoration-color: #008080; font-weight: bold\">9</span><span style=\"color: #d4b702; text-decoration-color: #d4b702\"> ━━━━━━━━━━━━━━━━━━━━━━━━━━━━━━━━━━━━━━━━━━━━━━━━━━━━━━</span>\n",
       "</pre>\n"
      ],
      "text/plain": [
       "\u001b[38;2;212;183;2m━━━━━━━━━━━━━━━━━━━━━━━━━━━━━━━━━━━━━━━━━━━━━━━━━━━━━ \u001b[0m\u001b[1mStep \u001b[0m\u001b[1;36m9\u001b[0m\u001b[38;2;212;183;2m ━━━━━━━━━━━━━━━━━━━━━━━━━━━━━━━━━━━━━━━━━━━━━━━━━━━━━━\u001b[0m\n"
      ]
     },
     "metadata": {},
     "output_type": "display_data"
    },
    {
     "name": "stderr",
     "output_type": "stream",
     "text": [
      "c:\\Users\\rober\\repos\\learning_agents\\venv\\Lib\\site-packages\\httpx\\_models.py:408: DeprecationWarning: Use 'content=<...>' to upload raw bytes/text content.\n",
      "  headers, stream = encode_request(\n"
     ]
    },
    {
     "data": {
      "text/html": [
       "<pre style=\"white-space:pre;overflow-x:auto;line-height:normal;font-family:Menlo,'DejaVu Sans Mono',consolas,'Courier New',monospace\"> ─ <span style=\"font-weight: bold\">Executing parsed code:</span> ──────────────────────────────────────────────────────────────────────────────────────── \n",
       "  <span style=\"color: #f8f8f2; text-decoration-color: #f8f8f2; background-color: #272822\">final_answer(</span><span style=\"color: #e6db74; text-decoration-color: #e6db74; background-color: #272822\">\"For a party at Peter Parker's house, consider these popular party music genres and hits that get </span>  \n",
       "  <span style=\"color: #e6db74; text-decoration-color: #e6db74; background-color: #272822\">people dancing: Pop, dance, hip-hop, electronic dance music (EDM), and classic rock. Some timeless party </span><span style=\"background-color: #272822\">      </span>  \n",
       "  <span style=\"color: #e6db74; text-decoration-color: #e6db74; background-color: #272822\">favorites include 'Dancing Queen' by ABBA, 'Uptown Funk' by Mark Ronson ft. Bruno Mars, 'Blinding Lights' by </span><span style=\"background-color: #272822\">  </span>  \n",
       "  <span style=\"color: #e6db74; text-decoration-color: #e6db74; background-color: #272822\">The Weeknd, and 'Don't Stop Me Now' by Queen. These genres and songs tend to get people moving and create a fun</span>  \n",
       "  <span style=\"color: #e6db74; text-decoration-color: #e6db74; background-color: #272822\">atmosphere for any celebration.\"</span><span style=\"color: #f8f8f2; text-decoration-color: #f8f8f2; background-color: #272822\">)</span><span style=\"background-color: #272822\">                                                                              </span>  \n",
       " ───────────────────────────────────────────────────────────────────────────────────────────────────────────────── \n",
       "</pre>\n"
      ],
      "text/plain": [
       " ─ \u001b[1mExecuting parsed code:\u001b[0m ──────────────────────────────────────────────────────────────────────────────────────── \n",
       "  \u001b[38;2;248;248;242;48;2;39;40;34mfinal_answer\u001b[0m\u001b[38;2;248;248;242;48;2;39;40;34m(\u001b[0m\u001b[38;2;230;219;116;48;2;39;40;34m\"\u001b[0m\u001b[38;2;230;219;116;48;2;39;40;34mFor a party at Peter Parker\u001b[0m\u001b[38;2;230;219;116;48;2;39;40;34m'\u001b[0m\u001b[38;2;230;219;116;48;2;39;40;34ms house, consider these popular party music genres and hits that get \u001b[0m  \n",
       "  \u001b[38;2;230;219;116;48;2;39;40;34mpeople dancing: Pop, dance, hip-hop, electronic dance music (EDM), and classic rock. Some timeless party \u001b[0m\u001b[48;2;39;40;34m      \u001b[0m  \n",
       "  \u001b[38;2;230;219;116;48;2;39;40;34mfavorites include \u001b[0m\u001b[38;2;230;219;116;48;2;39;40;34m'\u001b[0m\u001b[38;2;230;219;116;48;2;39;40;34mDancing Queen\u001b[0m\u001b[38;2;230;219;116;48;2;39;40;34m'\u001b[0m\u001b[38;2;230;219;116;48;2;39;40;34m by ABBA, \u001b[0m\u001b[38;2;230;219;116;48;2;39;40;34m'\u001b[0m\u001b[38;2;230;219;116;48;2;39;40;34mUptown Funk\u001b[0m\u001b[38;2;230;219;116;48;2;39;40;34m'\u001b[0m\u001b[38;2;230;219;116;48;2;39;40;34m by Mark Ronson ft. Bruno Mars, \u001b[0m\u001b[38;2;230;219;116;48;2;39;40;34m'\u001b[0m\u001b[38;2;230;219;116;48;2;39;40;34mBlinding Lights\u001b[0m\u001b[38;2;230;219;116;48;2;39;40;34m'\u001b[0m\u001b[38;2;230;219;116;48;2;39;40;34m by \u001b[0m\u001b[48;2;39;40;34m  \u001b[0m  \n",
       "  \u001b[38;2;230;219;116;48;2;39;40;34mThe Weeknd, and \u001b[0m\u001b[38;2;230;219;116;48;2;39;40;34m'\u001b[0m\u001b[38;2;230;219;116;48;2;39;40;34mDon\u001b[0m\u001b[38;2;230;219;116;48;2;39;40;34m'\u001b[0m\u001b[38;2;230;219;116;48;2;39;40;34mt Stop Me Now\u001b[0m\u001b[38;2;230;219;116;48;2;39;40;34m'\u001b[0m\u001b[38;2;230;219;116;48;2;39;40;34m by Queen. These genres and songs tend to get people moving and create a fun\u001b[0m  \n",
       "  \u001b[38;2;230;219;116;48;2;39;40;34matmosphere for any celebration.\u001b[0m\u001b[38;2;230;219;116;48;2;39;40;34m\"\u001b[0m\u001b[38;2;248;248;242;48;2;39;40;34m)\u001b[0m\u001b[48;2;39;40;34m                                                                              \u001b[0m  \n",
       " ───────────────────────────────────────────────────────────────────────────────────────────────────────────────── \n"
      ]
     },
     "metadata": {},
     "output_type": "display_data"
    },
    {
     "data": {
      "text/html": [
       "<pre style=\"white-space:pre;overflow-x:auto;line-height:normal;font-family:Menlo,'DejaVu Sans Mono',consolas,'Courier New',monospace\"></pre>\n"
      ],
      "text/plain": []
     },
     "metadata": {},
     "output_type": "display_data"
    },
    {
     "data": {
      "text/html": [
       "<pre style=\"white-space:pre;overflow-x:auto;line-height:normal;font-family:Menlo,'DejaVu Sans Mono',consolas,'Courier New',monospace\"><span style=\"color: #d4b702; text-decoration-color: #d4b702; font-weight: bold\">Final answer: For a party at Peter Parker's house, consider these popular party music genres and hits that get </span>\n",
       "<span style=\"color: #d4b702; text-decoration-color: #d4b702; font-weight: bold\">people dancing: Pop, dance, hip-hop, electronic dance music (EDM), and classic rock. Some timeless party favorites </span>\n",
       "<span style=\"color: #d4b702; text-decoration-color: #d4b702; font-weight: bold\">include 'Dancing Queen' by ABBA, 'Uptown Funk' by Mark Ronson ft. Bruno Mars, 'Blinding Lights' by The Weeknd, and </span>\n",
       "<span style=\"color: #d4b702; text-decoration-color: #d4b702; font-weight: bold\">'Don't Stop Me Now' by Queen. These genres and songs tend to get people moving and create a fun atmosphere for any </span>\n",
       "<span style=\"color: #d4b702; text-decoration-color: #d4b702; font-weight: bold\">celebration.</span>\n",
       "</pre>\n"
      ],
      "text/plain": [
       "\u001b[1;38;2;212;183;2mFinal answer: For a party at Peter Parker's house, consider these popular party music genres and hits that get \u001b[0m\n",
       "\u001b[1;38;2;212;183;2mpeople dancing: Pop, dance, hip-hop, electronic dance music (EDM), and classic rock. Some timeless party favorites \u001b[0m\n",
       "\u001b[1;38;2;212;183;2minclude 'Dancing Queen' by ABBA, 'Uptown Funk' by Mark Ronson ft. Bruno Mars, 'Blinding Lights' by The Weeknd, and \u001b[0m\n",
       "\u001b[1;38;2;212;183;2m'Don't Stop Me Now' by Queen. These genres and songs tend to get people moving and create a fun atmosphere for any \u001b[0m\n",
       "\u001b[1;38;2;212;183;2mcelebration.\u001b[0m\n"
      ]
     },
     "metadata": {},
     "output_type": "display_data"
    },
    {
     "data": {
      "text/html": [
       "<pre style=\"white-space:pre;overflow-x:auto;line-height:normal;font-family:Menlo,'DejaVu Sans Mono',consolas,'Courier New',monospace\"><span style=\"color: #7f7f7f; text-decoration-color: #7f7f7f\">[Step 9: Duration 21.83 seconds| Input tokens: 40,172 | Output tokens: 680]</span>\n",
       "</pre>\n"
      ],
      "text/plain": [
       "\u001b[2m[Step 9: Duration 21.83 seconds| Input tokens: 40,172 | Output tokens: 680]\u001b[0m\n"
      ]
     },
     "metadata": {},
     "output_type": "display_data"
    },
    {
     "data": {
      "text/plain": [
       "\"For a party at Peter Parker's house, consider these popular party music genres and hits that get people dancing: Pop, dance, hip-hop, electronic dance music (EDM), and classic rock. Some timeless party favorites include 'Dancing Queen' by ABBA, 'Uptown Funk' by Mark Ronson ft. Bruno Mars, 'Blinding Lights' by The Weeknd, and 'Don't Stop Me Now' by Queen. These genres and songs tend to get people moving and create a fun atmosphere for any celebration.\""
      ]
     },
     "execution_count": 14,
     "metadata": {},
     "output_type": "execute_result"
    }
   ],
   "source": [
    "\n",
    "agent.run(\"Search for the best music recommendations for a party at Peter Parker's house.\")"
   ]
  },
  {
   "cell_type": "code",
   "execution_count": null,
   "id": "0b2d5d0c",
   "metadata": {},
   "outputs": [],
   "source": []
  }
 ],
 "metadata": {
  "kernelspec": {
   "display_name": "venv",
   "language": "python",
   "name": "python3"
  },
  "language_info": {
   "codemirror_mode": {
    "name": "ipython",
    "version": 3
   },
   "file_extension": ".py",
   "mimetype": "text/x-python",
   "name": "python",
   "nbconvert_exporter": "python",
   "pygments_lexer": "ipython3",
   "version": "3.13.5"
  }
 },
 "nbformat": 4,
 "nbformat_minor": 5
}
